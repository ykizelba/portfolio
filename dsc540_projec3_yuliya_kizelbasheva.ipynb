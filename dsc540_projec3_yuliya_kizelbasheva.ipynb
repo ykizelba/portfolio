{
 "cells": [
  {
   "cell_type": "markdown",
   "metadata": {},
   "source": [
    "# DSC540 Project 3"
   ]
  },
  {
   "cell_type": "markdown",
   "metadata": {},
   "source": [
    "DePaul University  \n",
    "Ilyas Ustun, PhD  \n",
    "Chicago, IL  "
   ]
  },
  {
   "cell_type": "markdown",
   "metadata": {},
   "source": [
    "## Rules\n",
    "- Write your code under the corresponding questions. You are encouraged to use more than one cell.\n",
    "- Provide explanation in a separate Markdown formatted cell. \n",
    "- You can change the cell type by:\n",
    "    - Click on the outer area of the cell type you want to change,\n",
    "    - Go to the top, and select either Code or Markdown from the dropdown menu.\n",
    "- Be concise in your explanations and conclusions.\n",
    "- Write clear code and provide explanation to functions you create by using `#` comment sign.\n",
    "- Try to answer the questions by yourself. Use documentation from pandas, sklearn and similar libraries to solve the problem.\n",
    "- If you are stuck you can use different resources. Do not find an identical project and copy paste the solutions. \n",
    "- Write your name at the beginning of the jupyter notebook.\n",
    "\n",
    "\n",
    "Important:  \n",
    "- **Do NOT share the solutions with other people.**\n",
    "- **Do NOT share the solutions on the internet including but not limited to Github and other platforms.**\n",
    "- Sign the Honor Pledge below indicating that you have agreed to these rules listed here, and any other ethical and honor rules as required by the university.\n",
    "\n",
    "\n",
    "\n",
    "- **Deliverables:**\n",
    "    1. The Python Jupyter notebook file named properly with your name. Example: dsc540_project1_john_doe.ipynb\n",
    "    2. The HTML output of this code notebook names the same way. Example: dsc540_project1_john_doe.html\n",
    "        - File -> Download as -> HTML  \n",
    "        \n",
    "        \n",
    "**DO NOT zip the files.**\n",
    "\n",
    "Good Luck!"
   ]
  },
  {
   "cell_type": "markdown",
   "metadata": {},
   "source": [
    "### Yuliya Kizelbasheva"
   ]
  },
  {
   "cell_type": "markdown",
   "metadata": {},
   "source": [
    "**Honor Pledge:**  \n",
    "I pledge on my honor that I, **Yuliya Kizelbasheva**, have followed the rules listed above, that I have not given or received any unauthorized assistance on this assignment. \n"
   ]
  },
  {
   "cell_type": "markdown",
   "metadata": {},
   "source": [
    "\n",
    "## Project Description\n",
    "\n",
    "In this project we will be analyzing CO and NOX gas emissions from a power plant. The variables, their meanings and some statistics are given in the table below."
   ]
  },
  {
   "cell_type": "markdown",
   "metadata": {},
   "source": [
    "![PowerPlantEmissionsFeaturesTable](PowerPlantEmissionsFeaturesTable.PNG)"
   ]
  },
  {
   "cell_type": "markdown",
   "metadata": {},
   "source": [
    "## Import Libraries\n",
    "\n",
    "**Import the usual libraries for pandas and plotting, and sklearn.**"
   ]
  },
  {
   "cell_type": "code",
   "execution_count": 1,
   "metadata": {},
   "outputs": [],
   "source": [
    "import pandas as pd\n",
    "import numpy as np\n",
    "import matplotlib.pyplot as plt\n",
    "import seaborn as sns\n",
    "\n",
    "from sklearn import metrics"
   ]
  },
  {
   "cell_type": "code",
   "execution_count": 2,
   "metadata": {},
   "outputs": [
    {
     "data": {
      "text/plain": [
       "'1.0.2'"
      ]
     },
     "execution_count": 2,
     "metadata": {},
     "output_type": "execute_result"
    }
   ],
   "source": [
    "import sklearn\n",
    "sklearn.__version__"
   ]
  },
  {
   "cell_type": "code",
   "execution_count": 3,
   "metadata": {},
   "outputs": [],
   "source": [
    "pd.set_option('display.max_columns', 100)\n",
    "RANDOM_STATE = 0"
   ]
  },
  {
   "cell_type": "markdown",
   "metadata": {},
   "source": [
    "### These are the packages I used"
   ]
  },
  {
   "cell_type": "code",
   "execution_count": 1,
   "metadata": {},
   "outputs": [],
   "source": [
    "# Your package imports here\n",
    "from sklearn.feature_selection import SelectFromModel\n",
    "from sklearn.preprocessing import StandardScaler\n",
    "from sklearn.preprocessing import PolynomialFeatures\n",
    "from sklearn.metrics import accuracy_score, r2_score, mean_squared_error, confusion_matrix, roc_auc_score, recall_score, precision_score, f1_score, balanced_accuracy_score\n",
    "from sklearn.tree import DecisionTreeClassifier"
   ]
  },
  {
   "cell_type": "code",
   "execution_count": null,
   "metadata": {},
   "outputs": [],
   "source": []
  },
  {
   "cell_type": "markdown",
   "metadata": {},
   "source": [
    "> NOTE: For the Kernel RBF SVM hyper parameter tuning use these parameters in the questions:\n",
    "        \n",
    "        'C': [1, 10, 100, 1000]\n",
    "        'gamma': [0.001, 0.01, 0.1, 1]"
   ]
  },
  {
   "cell_type": "markdown",
   "metadata": {},
   "source": [
    "## Q1 [10]\n",
    "- Read in the dataset\n",
    "- How many rows and variables are there?\n"
   ]
  },
  {
   "cell_type": "markdown",
   "metadata": {},
   "source": [
    "#### Get the Data\n",
    "\n",
    "**Use pandas to read in the datasets as a dataframe.**"
   ]
  },
  {
   "cell_type": "code",
   "execution_count": 5,
   "metadata": {},
   "outputs": [],
   "source": [
    "df = pd.read_csv('gas_emissions.csv')"
   ]
  },
  {
   "cell_type": "code",
   "execution_count": 6,
   "metadata": {},
   "outputs": [
    {
     "data": {
      "text/html": [
       "<div>\n",
       "<style scoped>\n",
       "    .dataframe tbody tr th:only-of-type {\n",
       "        vertical-align: middle;\n",
       "    }\n",
       "\n",
       "    .dataframe tbody tr th {\n",
       "        vertical-align: top;\n",
       "    }\n",
       "\n",
       "    .dataframe thead th {\n",
       "        text-align: right;\n",
       "    }\n",
       "</style>\n",
       "<table border=\"1\" class=\"dataframe\">\n",
       "  <thead>\n",
       "    <tr style=\"text-align: right;\">\n",
       "      <th></th>\n",
       "      <th>AT</th>\n",
       "      <th>AP</th>\n",
       "      <th>AH</th>\n",
       "      <th>AFDP</th>\n",
       "      <th>GTEP</th>\n",
       "      <th>TIT</th>\n",
       "      <th>TAT</th>\n",
       "      <th>TEY</th>\n",
       "      <th>CDP</th>\n",
       "      <th>CO</th>\n",
       "      <th>NOX</th>\n",
       "    </tr>\n",
       "  </thead>\n",
       "  <tbody>\n",
       "    <tr>\n",
       "      <th>0</th>\n",
       "      <td>1.95320</td>\n",
       "      <td>1020.1</td>\n",
       "      <td>84.985</td>\n",
       "      <td>2.5304</td>\n",
       "      <td>20.116</td>\n",
       "      <td>1048.7</td>\n",
       "      <td>544.92</td>\n",
       "      <td>116.27</td>\n",
       "      <td>10.799</td>\n",
       "      <td>7.4491</td>\n",
       "      <td>113.250</td>\n",
       "    </tr>\n",
       "    <tr>\n",
       "      <th>1</th>\n",
       "      <td>1.21910</td>\n",
       "      <td>1020.1</td>\n",
       "      <td>87.523</td>\n",
       "      <td>2.3937</td>\n",
       "      <td>18.584</td>\n",
       "      <td>1045.5</td>\n",
       "      <td>548.50</td>\n",
       "      <td>109.18</td>\n",
       "      <td>10.347</td>\n",
       "      <td>6.4684</td>\n",
       "      <td>112.020</td>\n",
       "    </tr>\n",
       "    <tr>\n",
       "      <th>2</th>\n",
       "      <td>0.94915</td>\n",
       "      <td>1022.2</td>\n",
       "      <td>78.335</td>\n",
       "      <td>2.7789</td>\n",
       "      <td>22.264</td>\n",
       "      <td>1068.8</td>\n",
       "      <td>549.95</td>\n",
       "      <td>125.88</td>\n",
       "      <td>11.256</td>\n",
       "      <td>3.6335</td>\n",
       "      <td>88.147</td>\n",
       "    </tr>\n",
       "    <tr>\n",
       "      <th>3</th>\n",
       "      <td>1.00750</td>\n",
       "      <td>1021.7</td>\n",
       "      <td>76.942</td>\n",
       "      <td>2.8170</td>\n",
       "      <td>23.358</td>\n",
       "      <td>1075.2</td>\n",
       "      <td>549.63</td>\n",
       "      <td>132.21</td>\n",
       "      <td>11.702</td>\n",
       "      <td>3.1972</td>\n",
       "      <td>87.078</td>\n",
       "    </tr>\n",
       "    <tr>\n",
       "      <th>4</th>\n",
       "      <td>1.28580</td>\n",
       "      <td>1021.6</td>\n",
       "      <td>76.732</td>\n",
       "      <td>2.8377</td>\n",
       "      <td>23.483</td>\n",
       "      <td>1076.2</td>\n",
       "      <td>549.68</td>\n",
       "      <td>133.58</td>\n",
       "      <td>11.737</td>\n",
       "      <td>2.3833</td>\n",
       "      <td>82.515</td>\n",
       "    </tr>\n",
       "  </tbody>\n",
       "</table>\n",
       "</div>"
      ],
      "text/plain": [
       "        AT      AP      AH    AFDP    GTEP     TIT     TAT     TEY     CDP  \\\n",
       "0  1.95320  1020.1  84.985  2.5304  20.116  1048.7  544.92  116.27  10.799   \n",
       "1  1.21910  1020.1  87.523  2.3937  18.584  1045.5  548.50  109.18  10.347   \n",
       "2  0.94915  1022.2  78.335  2.7789  22.264  1068.8  549.95  125.88  11.256   \n",
       "3  1.00750  1021.7  76.942  2.8170  23.358  1075.2  549.63  132.21  11.702   \n",
       "4  1.28580  1021.6  76.732  2.8377  23.483  1076.2  549.68  133.58  11.737   \n",
       "\n",
       "       CO      NOX  \n",
       "0  7.4491  113.250  \n",
       "1  6.4684  112.020  \n",
       "2  3.6335   88.147  \n",
       "3  3.1972   87.078  \n",
       "4  2.3833   82.515  "
      ]
     },
     "execution_count": 6,
     "metadata": {},
     "output_type": "execute_result"
    }
   ],
   "source": [
    "df.head()"
   ]
  },
  {
   "cell_type": "markdown",
   "metadata": {},
   "source": [
    "#### Is there any missing data?"
   ]
  },
  {
   "cell_type": "code",
   "execution_count": 7,
   "metadata": {},
   "outputs": [
    {
     "name": "stdout",
     "output_type": "stream",
     "text": [
      "AT      0\n",
      "AP      0\n",
      "AH      0\n",
      "AFDP    0\n",
      "GTEP    0\n",
      "TIT     0\n",
      "TAT     0\n",
      "TEY     0\n",
      "CDP     0\n",
      "CO      0\n",
      "NOX     0\n",
      "dtype: int64\n"
     ]
    }
   ],
   "source": [
    "print(df.isnull().sum())"
   ]
  },
  {
   "cell_type": "markdown",
   "metadata": {},
   "source": [
    "#### What is the average value of AP for those points who have CO levels above 3 $mg/m^3$?"
   ]
  },
  {
   "cell_type": "code",
   "execution_count": 8,
   "metadata": {},
   "outputs": [
    {
     "name": "stdout",
     "output_type": "stream",
     "text": [
      "1015.6900173490633\n"
     ]
    }
   ],
   "source": [
    "print(df[df['CO']>3]['AP'].mean())"
   ]
  },
  {
   "cell_type": "markdown",
   "metadata": {},
   "source": [
    "#### Create a correlation map between the variables. Which variables have high correlation (> |0.9|)?"
   ]
  },
  {
   "cell_type": "code",
   "execution_count": 9,
   "metadata": {},
   "outputs": [
    {
     "data": {
      "image/png": "[encoded data removed]",
      "text/plain": [
       "<Figure size 640x480 with 2 Axes>"
      ]
     },
     "metadata": {},
     "output_type": "display_data"
    }
   ],
   "source": [
    "# Create correlation matrix\n",
    "cor_matrix = df.corr()\n",
    "ax = sns.heatmap(cor_matrix, annot=True, cmap = \"Purples\")\n",
    "plt.show()"
   ]
  },
  {
   "cell_type": "markdown",
   "metadata": {},
   "source": [
    "#### Create a scatter plot of 'TEY' vs 'CDP'"
   ]
  },
  {
   "cell_type": "code",
   "execution_count": 10,
   "metadata": {},
   "outputs": [
    {
     "data": {
      "image/png": "[encoded data removed]",
      "text/plain": [
       "<Figure size 640x480 with 1 Axes>"
      ]
     },
     "metadata": {},
     "output_type": "display_data"
    }
   ],
   "source": [
    "# Create a sctterplot\n",
    "cdp = df['CDP']\n",
    "tey = df['TEY']\n",
    "\n",
    "plt.scatter(cdp, tey, alpha=0.3)\n",
    "plt.xlabel('CDP')\n",
    "plt.ylabel('TEY')\n",
    "plt.show()"
   ]
  },
  {
   "cell_type": "markdown",
   "metadata": {},
   "source": [
    "#### Create histograms for CO and NOX."
   ]
  },
  {
   "cell_type": "code",
   "execution_count": 11,
   "metadata": {},
   "outputs": [
    {
     "data": {
      "image/png": "[encoded data removed]",
      "text/plain": [
       "<Figure size 640x480 with 1 Axes>"
      ]
     },
     "metadata": {},
     "output_type": "display_data"
    }
   ],
   "source": [
    "# Create a histogram\n",
    "plt.hist(df['CO'], bins=30)\n",
    "plt.show()"
   ]
  },
  {
   "cell_type": "code",
   "execution_count": 12,
   "metadata": {},
   "outputs": [
    {
     "data": {
      "image/png": "[encoded data removed]",
      "text/plain": [
       "<Figure size 640x480 with 1 Axes>"
      ]
     },
     "metadata": {},
     "output_type": "display_data"
    }
   ],
   "source": [
    "# Create a histogram\n",
    "plt.hist(df['NOX'], bins=30)\n",
    "plt.show()"
   ]
  },
  {
   "cell_type": "markdown",
   "metadata": {},
   "source": [
    "#### Create a sctter plot of CO vs NOX."
   ]
  },
  {
   "cell_type": "code",
   "execution_count": 13,
   "metadata": {},
   "outputs": [
    {
     "data": {
      "image/png": "[encoded data removed]",
      "text/plain": [
       "<Figure size 640x480 with 1 Axes>"
      ]
     },
     "metadata": {},
     "output_type": "display_data"
    }
   ],
   "source": [
    "# Create a scatter plot\n",
    "co = df['CO']\n",
    "nox = df['NOX']\n",
    "\n",
    "plt.scatter(nox,co, alpha=0.3)\n",
    "plt.xlabel('CO')\n",
    "plt.ylabel('NOX')\n",
    "plt.show()"
   ]
  },
  {
   "cell_type": "markdown",
   "metadata": {},
   "source": [
    "### Prepare data for machine learning"
   ]
  },
  {
   "cell_type": "markdown",
   "metadata": {},
   "source": [
    "- We will predict CO using all the other variables.\n",
    "- NOX, which is another emission gas, will not be used as predictor.\n",
    "- CO is a continuous variable, thus we will be doing regression.\n",
    "- Many of algorithms that do classification also have regression counterparts."
   ]
  },
  {
   "cell_type": "code",
   "execution_count": 14,
   "metadata": {},
   "outputs": [],
   "source": [
    "y = df.CO\n",
    "X = df.drop(['CO', 'NOX'], axis=1)"
   ]
  },
  {
   "cell_type": "code",
   "execution_count": 15,
   "metadata": {},
   "outputs": [],
   "source": [
    "from sklearn.model_selection import train_test_split\n",
    "X_train, X_test, y_train, y_test = train_test_split(X, y, test_size=0.10, random_state=RANDOM_STATE)\n",
    "X_train, X_val, y_train, y_val = train_test_split(X_train, y_train, test_size=0.20, random_state=RANDOM_STATE)"
   ]
  },
  {
   "cell_type": "code",
   "execution_count": 16,
   "metadata": {},
   "outputs": [],
   "source": [
    "# Standardization of the data\n",
    "from sklearn.preprocessing import StandardScaler\n",
    "ss = StandardScaler()\n",
    "ss.fit(X_train)\n",
    "X_train = ss.transform(X_train)\n",
    "X_val = ss.transform(X_val)\n",
    "X_test = ss.transform(X_test)"
   ]
  },
  {
   "cell_type": "code",
   "execution_count": 17,
   "metadata": {},
   "outputs": [
    {
     "data": {
      "text/plain": [
       "(5316, 9)"
      ]
     },
     "execution_count": 17,
     "metadata": {},
     "output_type": "execute_result"
    }
   ],
   "source": [
    "X_train.shape"
   ]
  },
  {
   "cell_type": "code",
   "execution_count": 18,
   "metadata": {},
   "outputs": [
    {
     "data": {
      "text/plain": [
       "(1329, 9)"
      ]
     },
     "execution_count": 18,
     "metadata": {},
     "output_type": "execute_result"
    }
   ],
   "source": [
    "X_val.shape"
   ]
  },
  {
   "cell_type": "code",
   "execution_count": 19,
   "metadata": {},
   "outputs": [
    {
     "data": {
      "text/plain": [
       "(739, 9)"
      ]
     },
     "execution_count": 19,
     "metadata": {},
     "output_type": "execute_result"
    }
   ],
   "source": [
    "X_test.shape"
   ]
  },
  {
   "cell_type": "markdown",
   "metadata": {},
   "source": [
    "## Utility Functions"
   ]
  },
  {
   "cell_type": "markdown",
   "metadata": {},
   "source": [
    "You can create helper functions.\n",
    "For example, create functions that take the score and store it in a dataframe for a specific model."
   ]
  },
  {
   "cell_type": "code",
   "execution_count": null,
   "metadata": {},
   "outputs": [],
   "source": []
  },
  {
   "cell_type": "code",
   "execution_count": null,
   "metadata": {},
   "outputs": [],
   "source": []
  },
  {
   "cell_type": "code",
   "execution_count": null,
   "metadata": {},
   "outputs": [],
   "source": []
  },
  {
   "cell_type": "markdown",
   "metadata": {},
   "source": [
    "## Q2 [10]"
   ]
  },
  {
   "cell_type": "markdown",
   "metadata": {},
   "source": [
    "- Apply Linear Regression. Predict CO emission using other variables.\n",
    "    - What is the model $R^2$ on training data?\n",
    "    - What is the $R^2$ on validation data?\n",
    "    - What is the Root Mean Squared Error (RMSE) on training data?\n",
    "    - What is the RMSE on validation data?\n",
    "    \n",
    "> - $R^2$ higher is better. ($R^2$ is % variation in data being explained)  \n",
    "> - RMSE lower is better. (RMSE (Root Mean Squared Error) is error, meaning the difference between predictions and actual data)  \n",
    "\n",
    "Hint:  \n",
    "- You can use the `r2_score` and `mean_squared_error` methods in `sklearn.metrics`.   \n",
    "- You need to take the square root of Mean Squared Error to get to RMSE. (MSE $\\rightarrow$ square root $\\rightarrow$ RMSE)"
   ]
  },
  {
   "cell_type": "code",
   "execution_count": 20,
   "metadata": {},
   "outputs": [],
   "source": [
    "from sklearn.linear_model import LinearRegression"
   ]
  },
  {
   "cell_type": "code",
   "execution_count": 21,
   "metadata": {},
   "outputs": [
    {
     "name": "stdout",
     "output_type": "stream",
     "text": [
      "R2 training: 0.6640090820784397\n",
      "R2 validation: 0.646343190818214\n",
      "RMSE training: 1.2720122104103535\n",
      "RMSE validation: 1.3884894690085987\n"
     ]
    }
   ],
   "source": [
    "# Fit the model\n",
    "lr_model = LinearRegression()\n",
    "lr_model.fit(X_train, y_train)\n",
    "\n",
    "# Make predictions\n",
    "y_train_pred = lr_model.predict(X_train)\n",
    "y_val_pred = lr_model.predict(X_val)\n",
    "\n",
    "# Calculate R2\n",
    "r2_train = r2_score(y_train, y_train_pred)\n",
    "r2_val = r2_score(y_val, y_val_pred)\n",
    "\n",
    "# Calculate RMSE\n",
    "rmse_train = np.sqrt(mean_squared_error(y_train, y_train_pred))\n",
    "rmse_val = np.sqrt(mean_squared_error(y_val, y_val_pred))\n",
    "\n",
    "print(\"R2 training:\", r2_train)\n",
    "print(\"R2 validation:\", r2_val)\n",
    "print(\"RMSE training:\", rmse_train)\n",
    "print(\"RMSE validation:\", rmse_val)"
   ]
  },
  {
   "cell_type": "code",
   "execution_count": null,
   "metadata": {},
   "outputs": [],
   "source": []
  },
  {
   "cell_type": "markdown",
   "metadata": {},
   "source": [
    "## Q3 [10]"
   ]
  },
  {
   "cell_type": "markdown",
   "metadata": {},
   "source": [
    "- Apply Random Forest Regression with 100 trees. Predict CO emission using other variables.\n",
    "    - What is the model $R^2$?\n",
    "    - What is the $R^2$ on validation data?\n",
    "    - What is the RMSE on training data?\n",
    "    - What is the RMSE on validation data?\n",
    "\n",
    "- Is training and validation score close? If not what might be the problem?\n",
    "- If there is a large gap, try to decrease the gap by changing some hyperparameters of the Random Forest model. (In this analysis, any difference more than 0.10 $R^2$ difference can be assumed to be large.)\n",
    "    - Once you reach a difference of less than or close to 0.10 between training $R^2$ and validation $R^2$ you can stop. \n",
    "    - During this process your training score will probably decrease, and that is OK. "
   ]
  },
  {
   "cell_type": "code",
   "execution_count": 22,
   "metadata": {},
   "outputs": [],
   "source": [
    "from sklearn.ensemble import RandomForestRegressor"
   ]
  },
  {
   "cell_type": "code",
   "execution_count": 23,
   "metadata": {},
   "outputs": [],
   "source": [
    "estimator = RandomForestRegressor(n_estimators=100, random_state=RANDOM_STATE)"
   ]
  },
  {
   "cell_type": "code",
   "execution_count": 24,
   "metadata": {},
   "outputs": [
    {
     "name": "stdout",
     "output_type": "stream",
     "text": [
      "R2 training: 0.8231480657119852\n",
      "R2 validation: 0.7545793317706144\n",
      "RMSE training: 0.9228527659696341\n",
      "RMSE validation: 1.156663803948962\n"
     ]
    }
   ],
   "source": [
    "# Fit the mdoel\n",
    "estimator = RandomForestRegressor(n_estimators=100, min_samples_leaf=10, random_state=RANDOM_STATE)\n",
    "estimator.fit(X_train, y_train)\n",
    "\n",
    "# Make predictions\n",
    "y_train_pred = estimator.predict(X_train)\n",
    "y_val_pred = estimator.predict(X_val)\n",
    "\n",
    "# Calculate R2\n",
    "r2_train = r2_score(y_train, y_train_pred)\n",
    "r2_val = r2_score(y_val, y_val_pred)\n",
    "\n",
    "# Calculate RMSE\n",
    "rmse_train = np.sqrt(mean_squared_error(y_train, y_train_pred))\n",
    "rmse_val = np.sqrt(mean_squared_error(y_val, y_val_pred))\n",
    "\n",
    "# Print the results\n",
    "print(\"R2 training:\", r2_train)\n",
    "print(\"R2 validation:\", r2_val)\n",
    "print(\"RMSE training:\", rmse_train)\n",
    "print(\"RMSE validation:\", rmse_val)"
   ]
  },
  {
   "cell_type": "markdown",
   "metadata": {},
   "source": [
    "## Q4 [10]"
   ]
  },
  {
   "cell_type": "markdown",
   "metadata": {},
   "source": [
    "- Apply Support Vector Regression. Predict CO emission using other variables.\n",
    "    - What is the model $R^2$?\n",
    "    - What is the $R^2$ on validation data?\n",
    "    - What is the RMSE on training data?\n",
    "    - What is the RMSE on validation data?\n",
    "    \n",
    "- Do this for each of the models listed below using the default parameters:  \n",
    "    1. **Linear kernel SVR**  \n",
    "    2. **Polynomial kernel SVR**  \n",
    "    3. **RBF kernel SVR** "
   ]
  },
  {
   "cell_type": "code",
   "execution_count": 25,
   "metadata": {},
   "outputs": [],
   "source": [
    "from sklearn.svm import SVR"
   ]
  },
  {
   "cell_type": "markdown",
   "metadata": {},
   "source": [
    "### Linear SVM Regressor"
   ]
  },
  {
   "cell_type": "code",
   "execution_count": 26,
   "metadata": {},
   "outputs": [
    {
     "name": "stdout",
     "output_type": "stream",
     "text": [
      "R2 training: 0.6244274365717957\n",
      "R2 validation: 0.6021652568360496\n",
      "RMSE validation 1.3448518363320445\n",
      "RMSE validation: 1.472661495777822\n"
     ]
    }
   ],
   "source": [
    "# Fit the model\n",
    "estimator = SVR(kernel='linear')\n",
    "estimator.fit(X_train, y_train)\n",
    "\n",
    "# Make predictions\n",
    "y_train_pred_linear = estimator.predict(X_train)\n",
    "y_val_pred_linear = estimator.predict(X_val)\n",
    "\n",
    "# Calculate R2\n",
    "r2_train_linear = r2_score(y_train, y_train_pred_linear)\n",
    "r2_val_linear = r2_score(y_val, y_val_pred_linear)\n",
    "\n",
    "# Calculate RMSE\n",
    "rmse_train_linear = np.sqrt(mean_squared_error(y_train, y_train_pred_linear))\n",
    "rmse_val_linear = np.sqrt(mean_squared_error(y_val, y_val_pred_linear))\n",
    "\n",
    "print(\"R2 training:\", r2_train_linear)\n",
    "print(\"R2 validation:\", r2_val_linear)\n",
    "print(\"RMSE validation\", rmse_train_linear)\n",
    "print(\"RMSE validation:\", rmse_val_linear)"
   ]
  },
  {
   "cell_type": "markdown",
   "metadata": {},
   "source": [
    "### Polynomial Kernel SVM Regressor"
   ]
  },
  {
   "cell_type": "code",
   "execution_count": 27,
   "metadata": {},
   "outputs": [
    {
     "name": "stdout",
     "output_type": "stream",
     "text": [
      "R2 training: 0.7404852376508416\n",
      "R2 validation: 0.7310487212257807\n",
      "RMSE validation 1.117914385768905\n",
      "RMSE validation: 1.210844531836507\n"
     ]
    }
   ],
   "source": [
    "# Fit the model\n",
    "estimator = SVR(kernel='poly')\n",
    "estimator.fit(X_train, y_train)\n",
    "\n",
    "# Make predictions\n",
    "y_train_pred_poly = estimator.predict(X_train)\n",
    "y_val_pred_poly = estimator.predict(X_val)\n",
    "\n",
    "# Calculate R2\n",
    "r2_train_poly = r2_score(y_train, y_train_pred_poly)\n",
    "r2_val_poly = r2_score(y_val, y_val_pred_poly)\n",
    "\n",
    "# Calculate RMSE\n",
    "rmse_train_poly = np.sqrt(mean_squared_error(y_train, y_train_pred_poly))\n",
    "rmse_val_poly = np.sqrt(mean_squared_error(y_val, y_val_pred_poly))\n",
    "\n",
    "print(\"R2 training:\", r2_train_poly)\n",
    "print(\"R2 validation:\", r2_val_poly)\n",
    "print(\"RMSE validation\", rmse_train_poly)\n",
    "print(\"RMSE validation:\", rmse_val_poly)"
   ]
  },
  {
   "cell_type": "markdown",
   "metadata": {},
   "source": [
    "### RBF Kernel SVM Regressor"
   ]
  },
  {
   "cell_type": "code",
   "execution_count": 28,
   "metadata": {},
   "outputs": [
    {
     "name": "stdout",
     "output_type": "stream",
     "text": [
      "R2 training: 0.7653225070588422\n",
      "R2 validation: 0.7476173201040639\n",
      "RMSE validation 1.0630733502205558\n",
      "RMSE validation: 1.1729550025939743\n"
     ]
    }
   ],
   "source": [
    "# Fit the model\n",
    "estimator = SVR(kernel='rbf')\n",
    "estimator.fit(X_train, y_train)\n",
    "\n",
    "# Make predictions\n",
    "y_train_pred_rbf = estimator.predict(X_train)\n",
    "y_val_pred_rbf = estimator.predict(X_val)\n",
    "\n",
    "# Calculate R2\n",
    "r2_train_rbf = r2_score(y_train, y_train_pred_rbf)\n",
    "r2_val_rbf = r2_score(y_val, y_val_pred_rbf)\n",
    "\n",
    "# Calculate RMSE\n",
    "rmse_train_rbf = np.sqrt(mean_squared_error(y_train, y_train_pred_rbf))\n",
    "rmse_val_rbf = np.sqrt(mean_squared_error(y_val, y_val_pred_rbf))\n",
    "\n",
    "print(\"R2 training:\", r2_train_rbf)\n",
    "print(\"R2 validation:\", r2_val_rbf)\n",
    "print(\"RMSE validation\", rmse_train_rbf)\n",
    "print(\"RMSE validation:\", rmse_val_rbf)"
   ]
  },
  {
   "cell_type": "markdown",
   "metadata": {},
   "source": [
    "### Q5 [10]"
   ]
  },
  {
   "cell_type": "markdown",
   "metadata": {},
   "source": [
    "- Take RBF Kernel SVM and perform hyperparameter tuning. See if you can increase the $R^2$ score.   \n",
    "    - Use:  \n",
    "          'C': [1, 10, 100, 1000]\n",
    "          'gamma': [0.001, 0.01, 0.1, 1]  \n",
    "\n",
    "    - What is the model $R^2$?\n",
    "    - What is the $R^2$ on validation data?\n",
    "    - What is the RMSE on training data?\n",
    "    - What is the RMSE on validation data?"
   ]
  },
  {
   "cell_type": "code",
   "execution_count": 29,
   "metadata": {},
   "outputs": [],
   "source": [
    "from sklearn.model_selection import GridSearchCV"
   ]
  },
  {
   "cell_type": "code",
   "execution_count": 30,
   "metadata": {},
   "outputs": [
    {
     "name": "stdout",
     "output_type": "stream",
     "text": [
      "R2 training: 0.7922405098709934\n",
      "R2 validation: 0.7568500533368002\n",
      "RMSE training: 1.000248586950884\n",
      "RMSE validation: 1.151300431383166\n"
     ]
    }
   ],
   "source": [
    "# Set the params\n",
    "param_grid = {'C': [1, 10, 100, 1000],'gamma': [0.001, 0.01, 0.1, 1] }\n",
    "\n",
    "# Create RBF Kernel SVR\n",
    "estimator = SVR(kernel='rbf')\n",
    "\n",
    "# Create GridSearchCV\n",
    "grid_search = GridSearchCV(estimator=estimator, param_grid=param_grid, cv=5, scoring='r2', n_jobs=-1)\n",
    "\n",
    "# Fit the model\n",
    "grid_search.fit(X_train, y_train)\n",
    "\n",
    "# Get params\n",
    "best_params = grid_search.best_params_\n",
    "\n",
    "# Make predictions\n",
    "best_rbf_svr = grid_search.best_estimator_\n",
    "y_train_pred = best_rbf_svr.predict(X_train)\n",
    "y_val_pred = best_rbf_svr.predict(X_val)\n",
    "\n",
    "# Calculate R2\n",
    "r2_train = r2_score(y_train, y_train_pred)\n",
    "r2_val = r2_score(y_val, y_val_pred)\n",
    "\n",
    "# Calculate RMSE\n",
    "rmse_train = np.sqrt(mean_squared_error(y_train, y_train_pred))\n",
    "rmse_val = np.sqrt(mean_squared_error(y_val, y_val_pred))\n",
    "\n",
    "print(\"R2 training:\", r2_train)\n",
    "print(\"R2 validation:\", r2_val)\n",
    "print(\"RMSE training:\", rmse_train)\n",
    "print(\"RMSE validation:\", rmse_val)"
   ]
  },
  {
   "cell_type": "markdown",
   "metadata": {},
   "source": [
    "## Q6 [10]"
   ]
  },
  {
   "cell_type": "markdown",
   "metadata": {},
   "source": [
    "- Apply PCA and transform the data. \n",
    "    - For PCA we need to decide on the number of  components. Take sufficient number of components based on variance explained \n",
    "        - generally it is chosen as the number of components that can explain 90% of the variance \n",
    "        - or cross-validation accuracy using an ML model.\n",
    "\n",
    "- Use the PCA transformed data to perform regression. Use the models: \n",
    "    - Linear Regression\n",
    "    - Random Forest Regression (Optional to do hyper parameter tuning)\n",
    "    - RBF Kernel Support Vector Regression (Optional to do hyper parameter tuning)\n",
    "  \n",
    "- For each model:  \n",
    "    - What is the model $R^2$?\n",
    "    - What is the $R^2$ on validation data?\n",
    "    - What is the RMSE on training data?\n",
    "    - What is the RMSE on validation data?\n",
    "    \n",
    "- Compare these models with their counterparts obtained before. For example: Compare `PCA RBF SVR` with the `RBF SVR` model from before. Do you observe any change in performance? Please explain. \n"
   ]
  },
  {
   "cell_type": "code",
   "execution_count": 31,
   "metadata": {},
   "outputs": [],
   "source": [
    "from sklearn.decomposition import PCA"
   ]
  },
  {
   "cell_type": "code",
   "execution_count": 32,
   "metadata": {},
   "outputs": [],
   "source": [
    "pca = PCA(n_components=None)\n",
    "\n",
    "pca.fit(X_train)\n",
    "X_train_pca = pca.transform(X_train)\n",
    "X_val_pca = pca.transform(X_val)\n",
    "X_test_pca = pca.transform(X_test)"
   ]
  },
  {
   "cell_type": "code",
   "execution_count": 33,
   "metadata": {},
   "outputs": [
    {
     "name": "stdout",
     "output_type": "stream",
     "text": [
      "[0.58158952 0.78924196 0.88751722 0.94337792 0.98704348 0.9959942\n",
      " 0.99975821 0.99992456 1.        ]\n"
     ]
    },
    {
     "data": {
      "image/png": "[encoded data removed]",
      "text/plain": [
       "<Figure size 640x480 with 1 Axes>"
      ]
     },
     "metadata": {},
     "output_type": "display_data"
    }
   ],
   "source": [
    "print(pca.explained_variance_ratio_.cumsum())\n",
    "plt.plot(pca.explained_variance_ratio_.cumsum(), '-o');\n",
    "plt.xticks(ticks= range(X_train_pca.shape[1]), labels=[i+1 for i in range(X_train_pca.shape[1])])\n",
    "plt.xlabel('Principal Components')\n",
    "plt.ylabel('Variance Explained')\n",
    "plt.show()"
   ]
  },
  {
   "cell_type": "markdown",
   "metadata": {},
   "source": [
    "Choose the number of components."
   ]
  },
  {
   "cell_type": "code",
   "execution_count": 34,
   "metadata": {},
   "outputs": [],
   "source": [
    "X_train_pca2 = X_train_pca[:, 0:5]\n",
    "X_val_pca2 = X_val_pca[:, 0:5]\n",
    "X_test_pca2 = X_test_pca[:, 0:5]"
   ]
  },
  {
   "cell_type": "markdown",
   "metadata": {},
   "source": [
    "**Linear Regression with PCA transformed data**"
   ]
  },
  {
   "cell_type": "code",
   "execution_count": 35,
   "metadata": {},
   "outputs": [
    {
     "name": "stdout",
     "output_type": "stream",
     "text": [
      "R2 training: 0.6557906042002006\n",
      "R2 on validation: 0.6333206399655549\n",
      "RMSE on training: 1.2874751982855395\n",
      "RMSE on validation: 1.413822244602062\n"
     ]
    }
   ],
   "source": [
    "# Fit the model\n",
    "linear_reg = LinearRegression()\n",
    "linear_reg.fit(X_train_pca2, y_train)\n",
    "\n",
    "# Make predictions\n",
    "y_train_pred_linear_pca = linear_reg.predict(X_train_pca2)\n",
    "y_val_pred_linear_pca = linear_reg.predict(X_val_pca2)\n",
    "\n",
    "# Calculate R2\n",
    "r2_train_linear_pca = r2_score(y_train, y_train_pred_linear_pca)\n",
    "r2_val_linear_pca = r2_score(y_val, y_val_pred_linear_pca)\n",
    "\n",
    "# Calculate RMSE\n",
    "rmse_train_linear_pca = np.sqrt(mean_squared_error(y_train, y_train_pred_linear_pca))\n",
    "rmse_val_linear_pca = np.sqrt(mean_squared_error(y_val, y_val_pred_linear_pca))\n",
    "\n",
    "print(\"R2 training:\", r2_train_linear_pca)\n",
    "print(\"R2 on validation:\", r2_val_linear_pca)\n",
    "print(\"RMSE on training:\", rmse_train_linear_pca)\n",
    "print(\"RMSE on validation:\", rmse_val_linear_pca)"
   ]
  },
  {
   "cell_type": "markdown",
   "metadata": {},
   "source": [
    "**RF Regression with PCA transformed data**"
   ]
  },
  {
   "cell_type": "code",
   "execution_count": 36,
   "metadata": {},
   "outputs": [
    {
     "name": "stdout",
     "output_type": "stream",
     "text": [
      "R2 training: 0.9630548121704725\n",
      "R2 on validation: 0.7372337558608612\n",
      "RMSE on training: 0.4217998787395343\n",
      "RMSE on validation: 1.1968407422860916\n"
     ]
    }
   ],
   "source": [
    "# Fit the model\n",
    "rf_reg_pca = RandomForestRegressor(n_estimators=100, random_state=RANDOM_STATE)\n",
    "rf_reg_pca.fit(X_train_pca2, y_train)\n",
    "\n",
    "# Make predictions\n",
    "y_train_pred_rf_pca = rf_reg_pca.predict(X_train_pca2)\n",
    "y_val_pred_rf_pca = rf_reg_pca.predict(X_val_pca2)\n",
    "\n",
    "# Calculate R2\n",
    "r2_train_rf_pca = r2_score(y_train, y_train_pred_rf_pca)\n",
    "r2_val_rf_pca = r2_score(y_val, y_val_pred_rf_pca)\n",
    "\n",
    "# Calculate RMSE\n",
    "rmse_train_rf_pca = np.sqrt(mean_squared_error(y_train, y_train_pred_rf_pca))\n",
    "rmse_val_rf_pca = np.sqrt(mean_squared_error(y_val, y_val_pred_rf_pca))\n",
    "\n",
    "print(\"R2 training:\", r2_train_rf_pca)\n",
    "print(\"R2 on validation:\", r2_val_rf_pca)\n",
    "print(\"RMSE on training:\", rmse_train_rf_pca)\n",
    "print(\"RMSE on validation:\", rmse_val_rf_pca)"
   ]
  },
  {
   "cell_type": "markdown",
   "metadata": {},
   "source": [
    "**SVM Regression with PCA transformed data**"
   ]
  },
  {
   "cell_type": "code",
   "execution_count": 37,
   "metadata": {},
   "outputs": [
    {
     "name": "stdout",
     "output_type": "stream",
     "text": [
      "R2 training: 0.7602260497214572\n",
      "R2 on validation: 0.7469051026270979\n",
      "RMSE on training: 1.0745546560256456\n",
      "RMSE on validation: 1.1746088611596979\n"
     ]
    }
   ],
   "source": [
    "# Fit the model\n",
    "rbf_svr_pca = SVR(kernel='rbf')\n",
    "rbf_svr_pca.fit(X_train_pca2, y_train)\n",
    "\n",
    "# Make predictions\n",
    "y_train_pred_rbf_svr_pca = rbf_svr_pca.predict(X_train_pca2)\n",
    "y_val_pred_rbf_svr_pca = rbf_svr_pca.predict(X_val_pca2)\n",
    "\n",
    "# Calculate R2\n",
    "r2_train_rbf_svr_pca = r2_score(y_train, y_train_pred_rbf_svr_pca)\n",
    "r2_val_rbf_svr_pca = r2_score(y_val, y_val_pred_rbf_svr_pca)\n",
    "\n",
    "# Calculate RMSE\n",
    "rmse_train_rbf_svr_pca = np.sqrt(mean_squared_error(y_train, y_train_pred_rbf_svr_pca))\n",
    "rmse_val_rbf_svr_pca = np.sqrt(mean_squared_error(y_val, y_val_pred_rbf_svr_pca))\n",
    "\n",
    "print(\"R2 training:\", r2_train_rbf_svr_pca)\n",
    "print(\"R2 on validation:\", r2_val_rbf_svr_pca)\n",
    "print(\"RMSE on training:\", rmse_train_rbf_svr_pca)\n",
    "print(\"RMSE on validation:\", rmse_val_rbf_svr_pca)"
   ]
  },
  {
   "cell_type": "code",
   "execution_count": 38,
   "metadata": {},
   "outputs": [
    {
     "name": "stdout",
     "output_type": "stream",
     "text": [
      "R2 training: 0.7653225070588422\n",
      "R2 validation: 0.7476173201040639\n",
      "RMSE validation 1.0630733502205558\n",
      "RMSE validation: 1.1729550025939743\n",
      "\n",
      "\n",
      "R2 training: 0.7602260497214572\n",
      "R2 on validation: 0.7469051026270979\n",
      "RMSE on training: 1.0745546560256456\n",
      "RMSE on validation: 1.1746088611596979\n"
     ]
    }
   ],
   "source": [
    "# Comparison of RBF SVR and RBF SVR PCA\n",
    "\n",
    "# Results for RBF SVR\n",
    "print(\"R2 training:\", r2_train_rbf)\n",
    "print(\"R2 validation:\", r2_val_rbf)\n",
    "print(\"RMSE validation\", rmse_train_rbf)\n",
    "print(\"RMSE validation:\", rmse_val_rbf)\n",
    "print('\\n')\n",
    "\n",
    "# Results for RBF SVR PCA\n",
    "print(\"R2 training:\", r2_train_rbf_svr_pca)\n",
    "print(\"R2 on validation:\", r2_val_rbf_svr_pca)\n",
    "print(\"RMSE on training:\", rmse_train_rbf_svr_pca)\n",
    "print(\"RMSE on validation:\", rmse_val_rbf_svr_pca)\n",
    "    "
   ]
  },
  {
   "cell_type": "markdown",
   "metadata": {},
   "source": [
    "According to the results from above. RBF SVR's R2 on both training and validation data is higher than RBF SVR PCA's R2.\n",
    "But RBF SVR PCA's RMSE on both training and validation data is higher than RBF SVR's RMSE."
   ]
  },
  {
   "cell_type": "markdown",
   "metadata": {},
   "source": [
    "## Q7 [10]"
   ]
  },
  {
   "cell_type": "markdown",
   "metadata": {},
   "source": [
    "#### Let's do  classification "
   ]
  },
  {
   "cell_type": "markdown",
   "metadata": {},
   "source": [
    "We will convert CO target values into binary form by comparing them to a threshold. $ 0 - 3  mg/m^3$ is the range of max 8-hour avg. ambient CO in most US cities. So let's take that.  \n",
    "[CO Levels of Concern in Government Recommendations and Regulations](https://www.carbonmonoxidekills.com/are-you-at-risk/carbon-monoxide-levels/)"
   ]
  },
  {
   "cell_type": "code",
   "execution_count": 39,
   "metadata": {},
   "outputs": [],
   "source": [
    "from sklearn.preprocessing import Binarizer"
   ]
  },
  {
   "cell_type": "code",
   "execution_count": 40,
   "metadata": {},
   "outputs": [],
   "source": [
    "binarizer = Binarizer(threshold=3)"
   ]
  },
  {
   "cell_type": "code",
   "execution_count": 41,
   "metadata": {},
   "outputs": [],
   "source": [
    "y_train_cat = binarizer.transform(y_train.values.reshape(-1,1)).ravel()\n",
    "y_val_cat = binarizer.transform(y_val.values.reshape(-1,1)).ravel()\n",
    "y_test_cat = binarizer.transform(y_test.values.reshape(-1,1)).ravel()"
   ]
  },
  {
   "cell_type": "code",
   "execution_count": 42,
   "metadata": {},
   "outputs": [],
   "source": [
    "y_train_cat = pd.Series(y_train_cat)"
   ]
  },
  {
   "cell_type": "code",
   "execution_count": 43,
   "metadata": {},
   "outputs": [
    {
     "data": {
      "text/plain": [
       "<AxesSubplot:>"
      ]
     },
     "execution_count": 43,
     "metadata": {},
     "output_type": "execute_result"
    },
    {
     "data": {
      "image/png": "[encoded data removed]",
      "text/plain": [
       "<Figure size 640x480 with 1 Axes>"
      ]
     },
     "metadata": {},
     "output_type": "display_data"
    }
   ],
   "source": [
    "y_train_cat.value_counts().plot.barh()"
   ]
  },
  {
   "cell_type": "markdown",
   "metadata": {},
   "source": [
    "### Fit RBF Kernel SVM Classifier\n",
    "\n",
    "#### 1. Standardized training data \n",
    "- Using the standardized training data perform grid search:\n",
    "    - Find the best combination of the `C` and `gamma` hyper-parameters.  \n",
    "- For the best model:\n",
    "    - Either using the confusion matrix or the methods in `sklearn.metrics` get the following metrics on the validation set:\n",
    "     - Create confusion matrix\n",
    "     - Recall (Sensitivity)\n",
    "     - Specificity\n",
    "     - Precision\n",
    "     - Balanced Accuracy\n",
    "     - F1 Score\n",
    "     \n",
    "\n",
    "#### 2. PCA transformed training data \n",
    "- Using the **pca** transformed training data `X_train_pca2` perform grid search:\n",
    "    - Find the best combination of the `C` and `gamma` hyper-parameters.  \n",
    "- For the best model:\n",
    "    - Either using the confusion matrix or the methods in `sklearn.metrics` get the following metrics on the validation set `X_val_pca2`:\n",
    "         - Create confusion matrix\n",
    "         - Recall (Sensitivity)\n",
    "         - Specificity\n",
    "         - Precision\n",
    "         - Balanced Accuracy\n",
    "         - F1 Score\n"
   ]
  },
  {
   "cell_type": "code",
   "execution_count": 44,
   "metadata": {},
   "outputs": [],
   "source": [
    "from sklearn.svm import SVC"
   ]
  },
  {
   "cell_type": "code",
   "execution_count": 45,
   "metadata": {},
   "outputs": [],
   "source": [
    "estimator = SVC(kernel ='rbf')"
   ]
  },
  {
   "cell_type": "markdown",
   "metadata": {},
   "source": [
    "#### SVC Model 1 "
   ]
  },
  {
   "cell_type": "code",
   "execution_count": 46,
   "metadata": {},
   "outputs": [
    {
     "name": "stdout",
     "output_type": "stream",
     "text": [
      "Best combination of params for SVM {'C': 1, 'gamma': 1}\n",
      "\n",
      "\n",
      "Confusion Matrix:\n",
      " [[762  50]\n",
      " [ 68 449]]\n",
      "Recall: 0.8684719535783365\n",
      "Precision: 0.8997995991983968\n",
      "Balanced Accuracy: 0.9034477994492668\n",
      "F1: 0.8838582677165354\n"
     ]
    }
   ],
   "source": [
    "# Define the params grid\n",
    "param_grid = {'C': [1, 10, 100, 1000],'gamma': [0.001, 0.01, 0.1, 1]}\n",
    "\n",
    "# Standardize training data\n",
    "svm_rbf = SVC(kernel='rbf', random_state=RANDOM_STATE, probability=True)\n",
    "\n",
    "# Fit the model\n",
    "grid_search = GridSearchCV(estimator=svm_rbf, param_grid=param_grid, cv=5, scoring='accuracy')\n",
    "grid_search.fit(X_train, y_train_cat)\n",
    "\n",
    "# Get the best params\n",
    "best_params = grid_search.best_params_\n",
    "best_svm_rbf = grid_search.best_estimator_\n",
    "\n",
    "# Make predictions\n",
    "y_val_pred_svm_rbf = best_svm_rbf.predict(X_val)\n",
    "y_val_prob_svm_rbf = best_svm_rbf.predict_proba(X_val)\n",
    "\n",
    "# Calculate performance metrics\n",
    "conf_matrix = confusion_matrix(y_val_cat, y_val_pred_svm_rbf)\n",
    "recall = recall_score(y_val_cat, y_val_pred_svm_rbf)\n",
    "precision = precision_score(y_val_cat, y_val_pred_svm_rbf)\n",
    "balanced_accuracy = balanced_accuracy_score(y_val_cat, y_val_pred_svm_rbf)\n",
    "f1 = f1_score(y_val_cat, y_val_pred_svm_rbf)\n",
    "\n",
    "print(\"Best combination of params for SVM\", best_params)\n",
    "print('\\n')\n",
    "print(\"Confusion Matrix:\\n\", conf_matrix)\n",
    "print(\"Recall:\", recall)\n",
    "print(\"Precision:\", precision)\n",
    "print(\"Balanced Accuracy:\", balanced_accuracy)\n",
    "print(\"F1:\", f1)"
   ]
  },
  {
   "cell_type": "markdown",
   "metadata": {},
   "source": [
    "#### SVC Model 2"
   ]
  },
  {
   "cell_type": "code",
   "execution_count": 47,
   "metadata": {},
   "outputs": [
    {
     "name": "stdout",
     "output_type": "stream",
     "text": [
      "Best params for SVM {'C': 1, 'gamma': 1}\n",
      "\n",
      "\n",
      "Confusion Matrix:\n",
      " [[764  48]\n",
      " [ 70 447]]\n",
      "Recall: 0.8646034816247582\n",
      "Precision: 0.9030303030303031\n",
      "Balanced Accuracy: 0.9027450905660737\n",
      "F1: 0.8833992094861659\n"
     ]
    }
   ],
   "source": [
    "# Define the params grid\n",
    "param_grid = {'C': [1, 10, 100, 1000],'gamma': [0.001, 0.01, 0.1, 1]}\n",
    "\n",
    "# Standardize training data\n",
    "svm_rbf_pca = SVC(kernel='rbf', random_state=RANDOM_STATE, probability=True)\n",
    "\n",
    "# Fit the model\n",
    "grid_search_pca = GridSearchCV(estimator=svm_rbf_pca, param_grid=param_grid, cv=5, scoring='accuracy')\n",
    "grid_search_pca.fit(X_train_pca2, y_train_cat)\n",
    "\n",
    "# Get the best params\n",
    "best_params_pca = grid_search_pca.best_params_\n",
    "best_svm_rbf_pca = grid_search_pca.best_estimator_\n",
    "\n",
    "# Make predictions\n",
    "y_val_pred_svm_rbf_pca = best_svm_rbf_pca.predict(X_val_pca2)\n",
    "y_val_prob_svm_rbf_pca = best_svm_rbf_pca.predict_proba(X_val_pca2)\n",
    "\n",
    "# Calculate performance metrics\n",
    "conf_matrix_pca = confusion_matrix(y_val_cat, y_val_pred_svm_rbf_pca)\n",
    "recall_pca = recall_score(y_val_cat, y_val_pred_svm_rbf_pca)\n",
    "precision_pca = precision_score(y_val_cat, y_val_pred_svm_rbf_pca)\n",
    "balanced_accuracy_pca = balanced_accuracy_score(y_val_cat, y_val_pred_svm_rbf_pca)\n",
    "f1_pca = f1_score(y_val_cat, y_val_pred_svm_rbf_pca)\n",
    "\n",
    "print(\"Best params for SVM\", best_params_pca)\n",
    "print('\\n')\n",
    "print(\"Confusion Matrix:\\n\", conf_matrix_pca)\n",
    "print(\"Recall:\", recall_pca)\n",
    "print(\"Precision:\", precision_pca)\n",
    "print(\"Balanced Accuracy:\", balanced_accuracy_pca)\n",
    "print(\"F1:\", f1_pca)"
   ]
  },
  {
   "cell_type": "markdown",
   "metadata": {},
   "source": [
    "## Q8 [10]"
   ]
  },
  {
   "cell_type": "markdown",
   "metadata": {},
   "source": [
    "- For regression:\n",
    "    - Think of other ways of improving the regression performance and list at least two possibilities.\n",
    "    - You can use any of the datasets we have been using (standardized data, PCA transformed data), or re-create your own set from the original.\n",
    "    - Implement both of the methods you proposed. \n",
    "    - Is the validation performance increasing? For performance comparison you can use any regression performance metric that you deem to be appropriate. \n",
    "    - Optional: Apply different methods, ideas as you see fit and see if the validation performance is improving."
   ]
  },
  {
   "cell_type": "code",
   "execution_count": 48,
   "metadata": {},
   "outputs": [
    {
     "name": "stdout",
     "output_type": "stream",
     "text": [
      "Original\n",
      "R2 training: 0.6557906042002006\n",
      "R2 on validation: 0.6333206399655549\n",
      "RMSE on training: 1.2874751982855395\n",
      "RMSE on validation: 1.413822244602062\n",
      "\n",
      "\n",
      "Updated\n",
      "R2 training: 0.7691883892609054\n",
      "R2 on validation: 0.7399170869980773\n",
      "RMSE on training: 1.0542808960261356\n",
      "RMSE on validation: 1.1907140781325705\n",
      "\n",
      "\n",
      "Original\n",
      "R2 training: 0.9630548121704725\n",
      "R2 on validation: 0.7372337558608612\n",
      "RMSE on training: 0.4217998787395343\n",
      "RMSE on validation: 1.1968407422860916\n",
      "\n",
      "\n",
      "Updated\n",
      "R2 training: 0.9308291459008692\n",
      "R2 on validation: 0.7367951280210194\n",
      "RMSE on training: 0.5771505053251687\n",
      "RMSE on validation: 1.197839251009294\n"
     ]
    }
   ],
   "source": [
    "\n",
    "# Fit the model\n",
    "linear_reg = LinearRegression()\n",
    "linear_reg.fit(X_train_pca2, y_train)\n",
    "\n",
    "# Make predictions\n",
    "y_train_pred_linear_pca = linear_reg.predict(X_train_pca2)\n",
    "y_val_pred_linear_pca = linear_reg.predict(X_val_pca2)\n",
    "\n",
    "# Calculate R2\n",
    "r2_train_linear_pca = r2_score(y_train, y_train_pred_linear_pca)\n",
    "r2_val_linear_pca = r2_score(y_val, y_val_pred_linear_pca)\n",
    "\n",
    "# Calculate RMSE\n",
    "rmse_train_linear_pca = np.sqrt(mean_squared_error(y_train, y_train_pred_linear_pca))\n",
    "rmse_val_linear_pca = np.sqrt(mean_squared_error(y_val, y_val_pred_linear_pca))\n",
    "\n",
    "print(\"Original\")\n",
    "print(\"R2 training:\", r2_train_linear_pca)\n",
    "print(\"R2 on validation:\", r2_val_linear_pca)\n",
    "print(\"RMSE on training:\", rmse_train_linear_pca)\n",
    "print(\"RMSE on validation:\", rmse_val_linear_pca)\n",
    "print('\\n')\n",
    "\n",
    "# \n",
    "\n",
    "# Option 1: applying polynomial features\n",
    "\n",
    "# Create polynomial features\n",
    "poly = PolynomialFeatures(degree=2)\n",
    "X_train_poly = poly.fit_transform(X_train)\n",
    "X_val_poly = poly.transform(X_val)\n",
    "\n",
    "# Fit a Linear Regression model on the new feature set\n",
    "reg_model = LinearRegression()\n",
    "reg_model.fit(X_train_poly, y_train)\n",
    "\n",
    "# Make predictions using the Linear Regression model\n",
    "y_train_pred_b = reg_model.predict(X_train_poly)\n",
    "y_val_pred_b = reg_model.predict(X_val_poly)\n",
    "\n",
    "# Calculate R2\n",
    "r2_train_rbf_svr_pca = r2_score(y_train, y_train_pred_b)\n",
    "r2_val_rbf_svr_pca = r2_score(y_val, y_val_pred_b)\n",
    "\n",
    "# Calculate RMSE\n",
    "rmse_train_rbf_svr_pca = np.sqrt(mean_squared_error(y_train, y_train_pred_b))\n",
    "rmse_val_rbf_svr_pca = np.sqrt(mean_squared_error(y_val, y_val_pred_b))\n",
    "\n",
    "print(\"Updated\")\n",
    "print(\"R2 training:\", r2_train_rbf_svr_pca)\n",
    "print(\"R2 on validation:\", r2_val_rbf_svr_pca)\n",
    "print(\"RMSE on training:\", rmse_train_rbf_svr_pca)\n",
    "print(\"RMSE on validation:\", rmse_val_rbf_svr_pca)\n",
    "print('\\n')\n",
    "#2\n",
    "\n",
    "# Fit the model\n",
    "rf_reg_pca = RandomForestRegressor(n_estimators=100, random_state=RANDOM_STATE)\n",
    "rf_reg_pca.fit(X_train_pca2, y_train)\n",
    "\n",
    "# Make predictions\n",
    "y_train_pred_rf_pca = rf_reg_pca.predict(X_train_pca2)\n",
    "y_val_pred_rf_pca = rf_reg_pca.predict(X_val_pca2)\n",
    "\n",
    "# Calculate R2\n",
    "r2_train_rf_pca = r2_score(y_train, y_train_pred_rf_pca)\n",
    "r2_val_rf_pca = r2_score(y_val, y_val_pred_rf_pca)\n",
    "\n",
    "# Calculate RMSE\n",
    "rmse_train_rf_pca = np.sqrt(mean_squared_error(y_train, y_train_pred_rf_pca))\n",
    "rmse_val_rf_pca = np.sqrt(mean_squared_error(y_val, y_val_pred_rf_pca))\n",
    "\n",
    "print(\"Original\")\n",
    "print(\"R2 training:\", r2_train_rf_pca)\n",
    "print(\"R2 on validation:\", r2_val_rf_pca)\n",
    "print(\"RMSE on training:\", rmse_train_rf_pca)\n",
    "print(\"RMSE on validation:\", rmse_val_rf_pca)\n",
    "\n",
    "\n",
    "# Tune Random Forest Regression\n",
    "print('\\n')\n",
    "\n",
    "# Fit the model\n",
    "rf_reg_pca = RandomForestRegressor(n_estimators=100, max_depth=10, random_state=RANDOM_STATE)\n",
    "rf_reg_pca.fit(X_train_pca2, y_train)\n",
    "\n",
    "# Make predictions\n",
    "y_train_pred_rf_pca = rf_reg_pca.predict(X_train_pca2)\n",
    "y_val_pred_rf_pca = rf_reg_pca.predict(X_val_pca2)\n",
    "\n",
    "# Calculate R2\n",
    "r2_train_rf_pca = r2_score(y_train, y_train_pred_rf_pca)\n",
    "r2_val_rf_pca = r2_score(y_val, y_val_pred_rf_pca)\n",
    "\n",
    "# Calculate RMSE\n",
    "rmse_train_rf_pca = np.sqrt(mean_squared_error(y_train, y_train_pred_rf_pca))\n",
    "rmse_val_rf_pca = np.sqrt(mean_squared_error(y_val, y_val_pred_rf_pca))\n",
    "\n",
    "print(\"Updated\")\n",
    "print(\"R2 training:\", r2_train_rf_pca)\n",
    "print(\"R2 on validation:\", r2_val_rf_pca)\n",
    "print(\"RMSE on training:\", rmse_train_rf_pca)\n",
    "print(\"RMSE on validation:\", rmse_val_rf_pca)\n",
    "\n"
   ]
  },
  {
   "cell_type": "markdown",
   "metadata": {},
   "source": [
    "As we can see, when we applied polynomial features, R2 on both training and validation became higher, and RMSE became lower. But when we tuned RF regression, RMSE on both training and validation became higher and R2 became lower."
   ]
  },
  {
   "cell_type": "markdown",
   "metadata": {},
   "source": [
    "## Q9 [10]"
   ]
  },
  {
   "cell_type": "markdown",
   "metadata": {},
   "source": [
    "- For classification:\n",
    "    - Try at least one classifier other than SVM (RF, GBM, Logistic Regression, etc). \n",
    "    - Think of other ways of improving the regression performance and list at least two possibilities.\n",
    "    - You can use any of the datasets we have been using (standardized data, PCA transformed data), or re-create your own set from the original.\n",
    "    - Implement both of the methods you proposed. \n",
    "    - Is the validation performance increasing? For performance comparison you can use any regression performance metric that you deem to be appropriate. \n",
    "    - Optional: Apply different methods, ideas as you see fit and see if the validation performance is improving."
   ]
  },
  {
   "cell_type": "code",
   "execution_count": 49,
   "metadata": {},
   "outputs": [
    {
     "name": "stdout",
     "output_type": "stream",
     "text": [
      "Recall: 0.8491295938104448\n",
      "Precision: 0.8832997987927566\n",
      "Accuracy: 0.8976674191121143\n",
      "F1: 0.8658777120315583\n",
      "\n",
      "\n",
      "Recall: 0.8491295938104448\n",
      "Precision: 0.8832997987927566\n",
      "Accuracy: 0.8976674191121143\n",
      "F1: 0.8658777120315583\n",
      "\n",
      "\n",
      "Recall: 0.8491295938104448\n",
      "Precision: 0.888663967611336\n",
      "Accuracy: 0.8999247554552295\n",
      "F1: 0.8684470820969336\n",
      "\n",
      "\n"
     ]
    }
   ],
   "source": [
    "# Original\n",
    "# Fit the model\n",
    "rf_classifier = DecisionTreeClassifier(max_depth=100, min_samples_split=30)\n",
    "rf_classifier.fit(X_train, y_train_cat)\n",
    "\n",
    "# Predict on the validation data\n",
    "y_val_pred_rf = rf_classifier.predict(X_val)\n",
    "\n",
    "# Calculate classification metrics\n",
    "recall_rf = recall_score(y_val_cat, y_val_pred_rf)\n",
    "precision_rf = precision_score(y_val_cat, y_val_pred_rf)\n",
    "accuracy_rf = accuracy_score(y_val_cat, y_val_pred_rf)\n",
    "f1_score_rf = f1_score(y_val_cat, y_val_pred_rf)\n",
    "\n",
    "print(\"Recall:\", recall_rf)\n",
    "print(\"Precision:\", precision_rf)\n",
    "print(\"Accuracy:\", accuracy_rf)\n",
    "print(\"F1:\", f1_score_rf)\n",
    "print('\\n')\n",
    "\n",
    "# Option#1\n",
    "# Tune the model and fit\n",
    "rf_classifier = DecisionTreeClassifier(max_depth=10, min_samples_split=3)\n",
    "rf_classifier.fit(X_train, y_train_cat)\n",
    "\n",
    "# Predict on the validation data\n",
    "y_val_pred_rf = rf_classifier.predict(X_val)\n",
    "\n",
    "# Calculate classification metrics\n",
    "recall_rf = recall_score(y_val_cat, y_val_pred_rf)\n",
    "precision_rf = precision_score(y_val_cat, y_val_pred_rf)\n",
    "accuracy_rf = accuracy_score(y_val_cat, y_val_pred_rf)\n",
    "f1_score_rf = f1_score(y_val_cat, y_val_pred_rf)\n",
    "\n",
    "print(\"Recall:\", recall_rf)\n",
    "print(\"Precision:\", precision_rf)\n",
    "print(\"Accuracy:\", accuracy_rf)\n",
    "print(\"F1:\", f1_score_rf)\n",
    "print('\\n')\n",
    "\n",
    "\n",
    "# Option#2\n",
    "# Use StandardScaler on a classifier\n",
    "scaler = StandardScaler()\n",
    "X_train_sc = scaler.fit_transform(X_train)\n",
    "X_val_sc = scaler.transform(X_val)\n",
    "\n",
    "# Fit the model\n",
    "rf_sc = DecisionTreeClassifier(max_depth=10, min_samples_split=3)\n",
    "rf_sc.fit(X_train_sc, y_train_cat)\n",
    "\n",
    "# Make predictions\n",
    "y_val_pred_rf_sc = rf_sc.predict(X_val_sc)\n",
    "\n",
    "# Calculate metrics\n",
    "accuracy_rf1 = accuracy_score(y_val_cat, y_val_pred_rf_sc)\n",
    "precision_rf1 = precision_score(y_val_cat, y_val_pred_rf_sc)\n",
    "recall_rf1 = recall_score(y_val_cat, y_val_pred_rf_sc)\n",
    "f1_score_rf1 = f1_score(y_val_cat, y_val_pred_rf_sc)\n",
    "\n",
    "print(\"Recall:\", recall_rf1)\n",
    "print(\"Precision:\", precision_rf1)\n",
    "print(\"Accuracy:\", accuracy_rf1)\n",
    "print(\"F1:\", f1_score_rf1)\n",
    "print('\\n')"
   ]
  },
  {
   "cell_type": "markdown",
   "metadata": {},
   "source": [
    "As we can see from above, in both cases Recall, Accuracy, and F1 score are higher after using both option to improve the regression performance"
   ]
  },
  {
   "cell_type": "markdown",
   "metadata": {},
   "source": [
    "## Q10 [10]"
   ]
  },
  {
   "cell_type": "markdown",
   "metadata": {},
   "source": [
    "- Choose the best 2 regressors among the trained regressions models:\n",
    "- Create a table summarizing results on the **test** set for regression (with target variables in `y_test`):\n",
    "    - Show the R^2 and RMSE performance metrics on test data for each model.\n",
    "- Which model is best for regression? Is this in line with your analysis (the validation performance of the models) or is this not expected?\n",
    "\n",
    "\n",
    "\n",
    "- Choose the best 2 classifiers among the trained classification models:\n",
    "- Create a table summarizing results on the **test** set for classification (with target variables in `y_test_cat`):\n",
    "    - Show the classification performance metrics (accuracy, recall, precision, f1-score, etc.) on test data for each model. \n",
    "- Which model is best for classification? Is this in line with your analysis (the validation performance of the models) or is this not expected? \n",
    "\n",
    "\n",
    "\n",
    "> Note that the same transformation used during training should be applied on the testing set. (If you applied PCA on training data for the selected model, you need to apply PCA on the testing set as well.) \n",
    "\n"
   ]
  },
  {
   "cell_type": "code",
   "execution_count": 50,
   "metadata": {},
   "outputs": [
    {
     "name": "stdout",
     "output_type": "stream",
     "text": [
      "Regression with best R2\n",
      "R2 training: 0.9308291459008692\n",
      "R2 on validation: 0.7367951280210194\n",
      "RMSE on training: 0.5771505053251687\n",
      "RMSE on validation: 1.197839251009294\n",
      "\n",
      "\n",
      "Regression with best RMSE\n",
      "R2 training: 0.6557906042002006\n",
      "R2 on validation: 0.6333206399655549\n",
      "RMSE on training: 1.2874751982855395\n",
      "RMSE on validation: 1.413822244602062\n",
      "\n",
      "\n",
      "Classifier 1 with best metrics\n",
      "Recall: 0.8491295938104448\n",
      "Precision: 0.8832997987927566\n",
      "Accuracy: 0.8976674191121143\n",
      "F1: 0.8658777120315583\n",
      "\n",
      "\n",
      "Classifier 2 with best metrics\n",
      "Recall: 0.8491295938104448\n",
      "Precision: 0.888663967611336\n",
      "Accuracy: 0.8999247554552295\n",
      "F1: 0.8684470820969336\n",
      "\n",
      "\n"
     ]
    }
   ],
   "source": [
    "# Regression with best R2\n",
    "print(\"Regression with best R2\")\n",
    "print(\"R2 training:\", r2_train_rf_pca)\n",
    "print(\"R2 on validation:\", r2_val_rf_pca)\n",
    "print(\"RMSE on training:\", rmse_train_rf_pca)\n",
    "print(\"RMSE on validation:\", rmse_val_rf_pca)\n",
    "print('\\n')\n",
    "\n",
    "# Regression with best RMSE\n",
    "print(\"Regression with best RMSE\")\n",
    "print(\"R2 training:\", r2_train_linear_pca)\n",
    "print(\"R2 on validation:\", r2_val_linear_pca)\n",
    "print(\"RMSE on training:\", rmse_train_linear_pca)\n",
    "print(\"RMSE on validation:\", rmse_val_linear_pca)\n",
    "print('\\n')\n",
    "\n",
    "# Classifier 1 with best metrics\n",
    "print(\"Classifier 1 with best metrics\")\n",
    "print(\"Recall:\", recall_rf)\n",
    "print(\"Precision:\", precision_rf)\n",
    "print(\"Accuracy:\", accuracy_rf)\n",
    "print(\"F1:\", f1_score_rf)\n",
    "print('\\n')\n",
    "\n",
    "# Classifier 2 with best metrics\n",
    "print(\"Classifier 2 with best metrics\")\n",
    "print(\"Recall:\", recall_rf1)\n",
    "print(\"Precision:\", precision_rf1)\n",
    "print(\"Accuracy:\", accuracy_rf1)\n",
    "print(\"F1:\", f1_score_rf1)\n",
    "print('\\n')"
   ]
  },
  {
   "cell_type": "markdown",
   "metadata": {},
   "source": [
    "- What did you learn in this project? Any suggestions?"
   ]
  },
  {
   "cell_type": "markdown",
   "metadata": {},
   "source": [
    "# Your comments\n",
    "I improved my skills on how to use classifiers and regresssion, and learnt knew way of how to tune the parameteres to get better accuracy. No suggestions, thank you!"
   ]
  },
  {
   "cell_type": "markdown",
   "metadata": {},
   "source": [
    "# Thank you\n",
    "Ilyas Ustun  \n",
    "twitter: \\_ilyas\\_ustun\\_"
   ]
  }
 ],
 "metadata": {
  "kernelspec": {
   "display_name": "Python 3 (ipykernel)",
   "language": "python",
   "name": "python3"
  },
  "language_info": {
   "codemirror_mode": {
    "name": "ipython",
    "version": 3
   },
   "file_extension": ".py",
   "mimetype": "text/x-python",
   "name": "python",
   "nbconvert_exporter": "python",
   "pygments_lexer": "ipython3",
   "version": "3.9.13"
  },
  "toc": {
   "base_numbering": 1,
   "nav_menu": {},
   "number_sections": false,
   "sideBar": false,
   "skip_h1_title": false,
   "title_cell": "Table of Contents",
   "title_sidebar": "Contents",
   "toc_cell": false,
   "toc_position": {},
   "toc_section_display": false,
   "toc_window_display": false
  }
 },
 "nbformat": 4,
 "nbformat_minor": 4
}
