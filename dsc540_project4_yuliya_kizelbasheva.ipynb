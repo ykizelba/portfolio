{
 "cells": [
  {
   "cell_type": "markdown",
   "metadata": {},
   "source": [
    "# DSC540 Project 4"
   ]
  },
  {
   "cell_type": "markdown",
   "metadata": {},
   "source": [
    "DePaul University  \n",
    "Ilyas Ustun, PhD  \n",
    "Chicago, IL  "
   ]
  },
  {
   "cell_type": "markdown",
   "metadata": {},
   "source": [
    "## Rules\n",
    "- Write your code under the corresponding questions where you see `# Code here`. You are encouraged to use more than one cell.\n",
    "- Provide explanation in a separate Markdown formatted cell. \n",
    "- You can change the cell type by:\n",
    "    - Clicking on the outer area of the cell type you want to change,\n",
    "    - Go to the top, and select either Code or Markdown from the dropdown menu.\n",
    "- Be concise in your explanations and conclusions.\n",
    "- Write clear code and provide explanation to functions you create by using `#` comment sign.\n",
    "- For built-in function and methods you use from libraries, provide a very brief explanation of what they do.\n",
    "- Try to answer the questions by yourself. Use documentation from pandas, sklearn and similar libraries to solve the problem.\n",
    "- If you are stuck you can use different resources. Do not find an identical project and copy paste the solutions. \n",
    "- Write your name before beginning to code.\n",
    "\n",
    "\n",
    "Important:  \n",
    "- **Do NOT share the solutions with other people.**\n",
    "- **Do NOT share the solutions on the internet including but not limited to Github and other platforms.**\n",
    "- Sign the Honor Pledge below indicating that you have agreed to these rules listed here, and any other ethical and honor rules as required by the university.\n",
    "\n",
    "\n",
    "\n",
    "- **Deliverables:**\n",
    "    1. The Python Jupyter notebook file named properly with your name. Example: dsc540_project1_john_doe.ipynb\n",
    "    2. The HTML output of this code notebook names the same way. Example: dsc540_project1_john_doe.html\n",
    "        - File -> Download as -> HTML   \n",
    "\n",
    "Good Luck!"
   ]
  },
  {
   "cell_type": "markdown",
   "metadata": {},
   "source": [
    "### YOUR NAME HERE"
   ]
  },
  {
   "cell_type": "markdown",
   "metadata": {},
   "source": [
    "**Honor Pledge:**  \n",
    "I pledge on my honor that I, **Yuliya Kizelbasheva**, have followed the rules listed above, that I have not given or received any unauthorized assistance on this assignment. \n"
   ]
  },
  {
   "cell_type": "markdown",
   "metadata": {},
   "source": [
    "## Q1 [10]"
   ]
  },
  {
   "cell_type": "markdown",
   "metadata": {},
   "source": [
    "A drug company would like to introduce a drug to help patients with Alzheimer's. It is desirable to estimate $θ$, the proportion of the market share that this drug will capture. \n",
    "- The company interviews 100 people and 15 of them say that they will buy the drug. (This the observed data: n=100, observed=15) $->$ likelihood\n",
    "- If in the past new drugs tend to capture a proportion between say .10 and .40 of the market, and if all values in between are assumed equally likely, then $θ ∼ Unif(0.10, 0.40)$ $->$ prior"
   ]
  },
  {
   "cell_type": "markdown",
   "metadata": {},
   "source": [
    "### What is the traceplot of $\\theta$ using Bayesian analysis to estimate the market share for the new drug?\n",
    "- Sample 10000 draws\n",
    "- Plot the traceplot"
   ]
  },
  {
   "cell_type": "code",
   "execution_count": 121,
   "metadata": {},
   "outputs": [],
   "source": [
    "import pymc3 as pm\n",
    "import arviz as az"
   ]
  },
  {
   "cell_type": "code",
   "execution_count": 122,
   "metadata": {},
   "outputs": [
    {
     "name": "stderr",
     "output_type": "stream",
     "text": [
      "Auto-assigning NUTS sampler...\n",
      "INFO:pymc3:Auto-assigning NUTS sampler...\n",
      "Initializing NUTS using jitter+adapt_diag...\n",
      "INFO:pymc3:Initializing NUTS using jitter+adapt_diag...\n",
      "Sequential sampling (2 chains in 1 job)\n",
      "INFO:pymc3:Sequential sampling (2 chains in 1 job)\n",
      "NUTS: [theta]\n",
      "INFO:pymc3:NUTS: [theta]\n"
     ]
    },
    {
     "data": {
      "text/html": [
       "\n",
       "<style>\n",
       "    /* Turns off some styling */\n",
       "    progress {\n",
       "        /* gets rid of default border in Firefox and Opera. */\n",
       "        border: none;\n",
       "        /* Needs to be in here for Safari polyfill so background images work as expected. */\n",
       "        background-size: auto;\n",
       "    }\n",
       "    progress:not([value]), progress:not([value])::-webkit-progress-bar {\n",
       "        background: repeating-linear-gradient(45deg, #7e7e7e, #7e7e7e 10px, #5c5c5c 10px, #5c5c5c 20px);\n",
       "    }\n",
       "    .progress-bar-interrupted, .progress-bar-interrupted::-webkit-progress-bar {\n",
       "        background: #F44336;\n",
       "    }\n",
       "</style>\n"
      ],
      "text/plain": [
       "<IPython.core.display.HTML object>"
      ]
     },
     "metadata": {},
     "output_type": "display_data"
    },
    {
     "data": {
      "text/html": [
       "\n",
       "    <div>\n",
       "      <progress value='11000' class='' max='11000' style='width:300px; height:20px; vertical-align: middle;'></progress>\n",
       "      100.00% [11000/11000 00:12&lt;00:00 Sampling chain 0, 0 divergences]\n",
       "    </div>\n",
       "    "
      ],
      "text/plain": [
       "<IPython.core.display.HTML object>"
      ]
     },
     "metadata": {},
     "output_type": "display_data"
    },
    {
     "data": {
      "text/html": [
       "\n",
       "<style>\n",
       "    /* Turns off some styling */\n",
       "    progress {\n",
       "        /* gets rid of default border in Firefox and Opera. */\n",
       "        border: none;\n",
       "        /* Needs to be in here for Safari polyfill so background images work as expected. */\n",
       "        background-size: auto;\n",
       "    }\n",
       "    progress:not([value]), progress:not([value])::-webkit-progress-bar {\n",
       "        background: repeating-linear-gradient(45deg, #7e7e7e, #7e7e7e 10px, #5c5c5c 10px, #5c5c5c 20px);\n",
       "    }\n",
       "    .progress-bar-interrupted, .progress-bar-interrupted::-webkit-progress-bar {\n",
       "        background: #F44336;\n",
       "    }\n",
       "</style>\n"
      ],
      "text/plain": [
       "<IPython.core.display.HTML object>"
      ]
     },
     "metadata": {},
     "output_type": "display_data"
    },
    {
     "data": {
      "text/html": [
       "\n",
       "    <div>\n",
       "      <progress value='11000' class='' max='11000' style='width:300px; height:20px; vertical-align: middle;'></progress>\n",
       "      100.00% [11000/11000 00:12&lt;00:00 Sampling chain 1, 0 divergences]\n",
       "    </div>\n",
       "    "
      ],
      "text/plain": [
       "<IPython.core.display.HTML object>"
      ]
     },
     "metadata": {},
     "output_type": "display_data"
    },
    {
     "name": "stderr",
     "output_type": "stream",
     "text": [
      "Sampling 2 chains for 1_000 tune and 10_000 draw iterations (2_000 + 20_000 draws total) took 26 seconds.\n",
      "INFO:pymc3:Sampling 2 chains for 1_000 tune and 10_000 draw iterations (2_000 + 20_000 draws total) took 26 seconds.\n",
      "The acceptance probability does not match the target. It is 0.8866388181530612, but should be close to 0.8. Try to increase the number of tuning steps.\n",
      "WARNING:pymc3:The acceptance probability does not match the target. It is 0.8866388181530612, but should be close to 0.8. Try to increase the number of tuning steps.\n"
     ]
    },
    {
     "data": {
      "image/png": "[encoded data removed]",
      "text/plain": [
       "<Figure size 1200x200 with 2 Axes>"
      ]
     },
     "metadata": {},
     "output_type": "display_data"
    }
   ],
   "source": [
    "with pm.Model() as model:\n",
    "    \n",
    "    # Priors for unknown model parameters\n",
    "    theta = pm.Uniform('theta', 0.10, 0.40)\n",
    "    \n",
    "    # Likelihood\n",
    "    x = pm.Binomial('x', n=100, p=theta, observed=15)\n",
    "\n",
    "    # Posterior\n",
    "    trace = pm.sample(10000, tune=1000, cores=1) \n",
    "    \n",
    "    # Plot the trace plot\n",
    "    az.plot_trace(trace)"
   ]
  },
  {
   "cell_type": "markdown",
   "metadata": {},
   "source": [
    "### Plot the posterior distribution plot of $ \\theta $\n",
    "- What is the mean posterior value?"
   ]
  },
  {
   "cell_type": "code",
   "execution_count": 123,
   "metadata": {},
   "outputs": [
    {
     "name": "stderr",
     "output_type": "stream",
     "text": [
      "ERROR:arviz.data.io_pymc3_3x:Got error No model on context stack. trying to find log_likelihood in translation.\n"
     ]
    },
    {
     "data": {
      "text/plain": [
       "<AxesSubplot:title={'center':'theta'}>"
      ]
     },
     "execution_count": 123,
     "metadata": {},
     "output_type": "execute_result"
    },
    {
     "data": {
      "image/png": "[encoded data removed]",
      "text/plain": [
       "<Figure size 640x480 with 1 Axes>"
      ]
     },
     "metadata": {},
     "output_type": "display_data"
    }
   ],
   "source": [
    "# Plot the posterior of trace\n",
    "az.plot_posterior(trace)"
   ]
  },
  {
   "cell_type": "markdown",
   "metadata": {},
   "source": [
    "According to the output, mean = 0.16"
   ]
  },
  {
   "cell_type": "markdown",
   "metadata": {},
   "source": [
    "\n",
    "## Bayesian Network Analysis\n",
    "\n",
    "In this part we will be analyzing medical diagnosis using Bayes Nets. The structure and the Conditional Probabability Distribution tables are shown in the figure below."
   ]
  },
  {
   "cell_type": "markdown",
   "metadata": {},
   "source": [
    "![MedicalDiagnosis](Med-diag-bnet.jpg)"
   ]
  },
  {
   "cell_type": "markdown",
   "metadata": {},
   "source": [
    "- In the first few questions you will build the Bayes Net, set up the Conditional Probability Distribution tables, and associate the CPDs to the network.   \n",
    "- These steps are extremely important and crucial. Make sure you do the set up correctly, as everything else depends on that.   "
   ]
  },
  {
   "cell_type": "markdown",
   "metadata": {},
   "source": [
    "## Import Libraries\n",
    "\n",
    "**Import the usual libraries for pandas and plotting, and sklearn.**"
   ]
  },
  {
   "cell_type": "code",
   "execution_count": 7,
   "metadata": {},
   "outputs": [],
   "source": [
    "import pandas as pd\n",
    "import numpy as np\n",
    "import matplotlib.pyplot as plt\n",
    "import seaborn as sns\n",
    "\n",
    "from sklearn import metrics"
   ]
  },
  {
   "cell_type": "code",
   "execution_count": 82,
   "metadata": {},
   "outputs": [],
   "source": [
    "# import pgmpy\n",
    "from pgmpy.models import BayesianModel, BayesianNetwork\n",
    "from pgmpy.factors.discrete import TabularCPD"
   ]
  },
  {
   "cell_type": "code",
   "execution_count": 83,
   "metadata": {},
   "outputs": [
    {
     "data": {
      "text/plain": [
       "'1.0.2'"
      ]
     },
     "execution_count": 83,
     "metadata": {},
     "output_type": "execute_result"
    }
   ],
   "source": [
    "import sklearn\n",
    "sklearn.__version__"
   ]
  },
  {
   "cell_type": "markdown",
   "metadata": {},
   "source": [
    "### These are the packages I used"
   ]
  },
  {
   "cell_type": "code",
   "execution_count": 84,
   "metadata": {},
   "outputs": [],
   "source": [
    "# Your package imports here"
   ]
  },
  {
   "cell_type": "code",
   "execution_count": 61,
   "metadata": {},
   "outputs": [],
   "source": []
  },
  {
   "cell_type": "markdown",
   "metadata": {},
   "source": [
    "## Q2 [10]\n",
    "\n",
    "**Define the model structure.** \n",
    "\n",
    "You need to define the network by passing a list of edges. "
   ]
  },
  {
   "cell_type": "code",
   "execution_count": 85,
   "metadata": {},
   "outputs": [],
   "source": [
    "model = BayesianNetwork([('Smokes', 'LungDisease'), ('LungDisease', 'ShortnessBreath'), ('LungDisease', 'ChestPain'), ('LungDisease', 'Cough'), ('Cold', 'Cough'), ('Cold', 'Fever')])"
   ]
  },
  {
   "cell_type": "code",
   "execution_count": 130,
   "metadata": {},
   "outputs": [],
   "source": [
    "# Your code\n",
    "model = BayesianNetwork([('Smokes', 'LungDisease'), ('LungDisease', 'ShortnessBreath'), ('LungDisease', 'ChestPain'), ('LungDisease', 'Cough'), ('Cold', 'Cough'), ('Cold', 'Fever')])"
   ]
  },
  {
   "cell_type": "markdown",
   "metadata": {},
   "source": [
    "## Q3 [15] \n",
    "\n",
    "**Define individual CPDs**\n",
    "- Define the CPDs using the state names of the variables. "
   ]
  },
  {
   "cell_type": "code",
   "execution_count": 131,
   "metadata": {
    "scrolled": true
   },
   "outputs": [
    {
     "name": "stdout",
     "output_type": "stream",
     "text": [
      "+-----------+-----+\n",
      "| Smokes(T) | 0.2 |\n",
      "+-----------+-----+\n",
      "| Smokes(F) | 0.8 |\n",
      "+-----------+-----+\n",
      "+----------------+-----------+-----------+\n",
      "| Smokes         | Smokes(T) | Smokes(F) |\n",
      "+----------------+-----------+-----------+\n",
      "| LungDisease(T) | 0.1009    | 0.001     |\n",
      "+----------------+-----------+-----------+\n",
      "| LungDisease(F) | 0.8991    | 0.999     |\n",
      "+----------------+-----------+-----------+\n"
     ]
    }
   ],
   "source": [
    "cpd_Smokes = TabularCPD(variable='Smokes', variable_card=2, values=[[0.2], [0.8]], state_names={'Smokes' : ['T', 'F']})\n",
    "print(cpd_Smokes)\n",
    "\n",
    "\n",
    "cpd_lungDisease = TabularCPD(variable='LungDisease', \n",
    "                             variable_card=2, \n",
    "                             values=[[0.1009, 0.001],\n",
    "                                     [0.8991, 0.999]],\n",
    "                             evidence=['Smokes'],\n",
    "                             evidence_card=[2],\n",
    "                            state_names={'Smokes' : ['T', 'F'], 'LungDisease' : ['T', 'F']})\n",
    "print(cpd_LungDisease)\n",
    "\n"
   ]
  },
  {
   "cell_type": "code",
   "execution_count": 220,
   "metadata": {},
   "outputs": [],
   "source": [
    "# Your code\n",
    "cpd_smokes = TabularCPD(variable='Smokes',\n",
    "                        variable_card=2,\n",
    "                        values=[[0.2], [0.8]],\n",
    "                        state_names={'Smokes': ['T', 'F']})\n",
    "\n",
    "cpd_shortnessBreath = TabularCPD(variable='ShortnessBreath', \n",
    "                                 variable_card=2, \n",
    "                                 values=[[0.1, 0.1], [0.9, 0.9]],\n",
    "                                 evidence=['LungDisease'],\n",
    "                                 evidence_card=[2],\n",
    "                                 state_names={'LungDisease': ['T', 'F'], 'ShortnessBreath': ['T', 'F']})\n",
    "cpd_chestPain = TabularCPD(variable='ChestPain',\n",
    "                           variable_card=2,\n",
    "                           values=[[0.3, 0.3], [0.7, 0.7]],\n",
    "                           evidence=['LungDisease'],\n",
    "                           evidence_card=[2],\n",
    "                           state_names={'LungDisease': ['T', 'F'], 'ChestPain': ['T', 'F']})\n",
    "cpd_cough = TabularCPD(variable='Cough',\n",
    "                       variable_card=2,\n",
    "                       values=[[0.8, 0.3, 0.7, 0.2], [0.2, 0.7, 0.3, 0.8]],\n",
    "                       evidence=['LungDisease', 'Cold'],\n",
    "                       evidence_card=[2, 2],\n",
    "                       state_names={'LungDisease': ['T', 'F'], 'Cold': ['T', 'F'], 'Cough': ['T', 'F']})\n",
    "cpd_cold = TabularCPD(variable='Cold',\n",
    "                      variable_card=2,\n",
    "                      values=[[0.1], [0.9]],\n",
    "                      state_names={'Cold': ['T', 'F']})\n",
    "cpd_fever = TabularCPD(variable='Fever',\n",
    "                       variable_card=2,\n",
    "                       values=[[0.3, 0.1], [0.7, 0.9]], evidence=['Cold'],\n",
    "                       evidence_card=[2],\n",
    "                       state_names={'Fever': ['T', 'F'], 'Cold': ['T', 'F']})\n",
    "\n"
   ]
  },
  {
   "cell_type": "markdown",
   "metadata": {},
   "source": [
    "## Q4 [5] \n",
    "- Check that each of the CPDs are correct"
   ]
  },
  {
   "cell_type": "code",
   "execution_count": 221,
   "metadata": {},
   "outputs": [
    {
     "data": {
      "text/plain": [
       "<TabularCPD representing P(Smokes:2) at 0x7f7de9185250>"
      ]
     },
     "execution_count": 221,
     "metadata": {},
     "output_type": "execute_result"
    }
   ],
   "source": [
    "cpd_smokes"
   ]
  },
  {
   "cell_type": "code",
   "execution_count": 222,
   "metadata": {},
   "outputs": [
    {
     "name": "stdout",
     "output_type": "stream",
     "text": [
      "+-----------+-----+\n",
      "| Smokes(T) | 0.2 |\n",
      "+-----------+-----+\n",
      "| Smokes(F) | 0.8 |\n",
      "+-----------+-----+\n"
     ]
    }
   ],
   "source": [
    "print(cpd_smokes)"
   ]
  },
  {
   "cell_type": "code",
   "execution_count": 223,
   "metadata": {},
   "outputs": [
    {
     "name": "stdout",
     "output_type": "stream",
     "text": [
      "+-----------+-----+\n",
      "| Smokes(T) | 0.2 |\n",
      "+-----------+-----+\n",
      "| Smokes(F) | 0.8 |\n",
      "+-----------+-----+\n",
      "+----------------+-----------+-----------+\n",
      "| Smokes         | Smokes(T) | Smokes(F) |\n",
      "+----------------+-----------+-----------+\n",
      "| LungDisease(T) | 0.1009    | 0.001     |\n",
      "+----------------+-----------+-----------+\n",
      "| LungDisease(F) | 0.8991    | 0.999     |\n",
      "+----------------+-----------+-----------+\n",
      "+--------------------+----------------+----------------+\n",
      "| LungDisease        | LungDisease(T) | LungDisease(F) |\n",
      "+--------------------+----------------+----------------+\n",
      "| ShortnessBreath(T) | 0.1            | 0.1            |\n",
      "+--------------------+----------------+----------------+\n",
      "| ShortnessBreath(F) | 0.9            | 0.9            |\n",
      "+--------------------+----------------+----------------+\n",
      "+--------------+----------------+----------------+\n",
      "| LungDisease  | LungDisease(T) | LungDisease(F) |\n",
      "+--------------+----------------+----------------+\n",
      "| ChestPain(T) | 0.3            | 0.3            |\n",
      "+--------------+----------------+----------------+\n",
      "| ChestPain(F) | 0.7            | 0.7            |\n",
      "+--------------+----------------+----------------+\n",
      "+-------------+----------------+-----+----------------+----------------+\n",
      "| LungDisease | LungDisease(T) | ... | LungDisease(F) | LungDisease(F) |\n",
      "+-------------+----------------+-----+----------------+----------------+\n",
      "| Cold        | Cold(T)        | ... | Cold(T)        | Cold(F)        |\n",
      "+-------------+----------------+-----+----------------+----------------+\n",
      "| Cough(T)    | 0.8            | ... | 0.7            | 0.2            |\n",
      "+-------------+----------------+-----+----------------+----------------+\n",
      "| Cough(F)    | 0.2            | ... | 0.3            | 0.8            |\n",
      "+-------------+----------------+-----+----------------+----------------+\n",
      "+---------+-----+\n",
      "| Cold(T) | 0.1 |\n",
      "+---------+-----+\n",
      "| Cold(F) | 0.9 |\n",
      "+---------+-----+\n",
      "+----------+---------+---------+\n",
      "| Cold     | Cold(T) | Cold(F) |\n",
      "+----------+---------+---------+\n",
      "| Fever(T) | 0.3     | 0.1     |\n",
      "+----------+---------+---------+\n",
      "| Fever(F) | 0.7     | 0.9     |\n",
      "+----------+---------+---------+\n"
     ]
    }
   ],
   "source": [
    "# Your code\n",
    "print(cpd_smokes)\n",
    "print(cpd_lungDisease)\n",
    "print(cpd_shortnessBreath)\n",
    "print(cpd_chestPain)\n",
    "print(cpd_cough)\n",
    "print(cpd_cold)\n",
    "print(cpd_fever)\n"
   ]
  },
  {
   "cell_type": "markdown",
   "metadata": {},
   "source": [
    "## Q5 [5]\n",
    "- Add the defined CPDs to the model (Associate the CPDs with the network)"
   ]
  },
  {
   "cell_type": "code",
   "execution_count": 224,
   "metadata": {},
   "outputs": [
    {
     "name": "stderr",
     "output_type": "stream",
     "text": [
      "WARNING:pgmpy:Replacing existing CPD for Smokes\n",
      "WARNING:pgmpy:Replacing existing CPD for LungDisease\n"
     ]
    }
   ],
   "source": [
    "model.add_cpds(cpd_smokes, cpd_lungDisease)"
   ]
  },
  {
   "cell_type": "code",
   "execution_count": 225,
   "metadata": {},
   "outputs": [
    {
     "name": "stderr",
     "output_type": "stream",
     "text": [
      "WARNING:pgmpy:Replacing existing CPD for Smokes\n",
      "WARNING:pgmpy:Replacing existing CPD for LungDisease\n",
      "WARNING:pgmpy:Replacing existing CPD for ShortnessBreath\n",
      "WARNING:pgmpy:Replacing existing CPD for ChestPain\n",
      "WARNING:pgmpy:Replacing existing CPD for Cough\n",
      "WARNING:pgmpy:Replacing existing CPD for Cold\n",
      "WARNING:pgmpy:Replacing existing CPD for Fever\n"
     ]
    },
    {
     "data": {
      "text/plain": [
       "True"
      ]
     },
     "execution_count": 225,
     "metadata": {},
     "output_type": "execute_result"
    }
   ],
   "source": [
    "model.add_cpds(cpd_smokes, cpd_lungDisease, cpd_shortnessBreath, cpd_chestPain, cpd_cough, cpd_cold, cpd_fever)\n",
    "model.check_model()"
   ]
  },
  {
   "cell_type": "code",
   "execution_count": null,
   "metadata": {},
   "outputs": [],
   "source": []
  },
  {
   "cell_type": "markdown",
   "metadata": {},
   "source": [
    "## Q6 [5]\n",
    "- The cardinality of each of the nodes is 2 - True or False?"
   ]
  },
  {
   "cell_type": "code",
   "execution_count": 226,
   "metadata": {},
   "outputs": [
    {
     "name": "stdout",
     "output_type": "stream",
     "text": [
      "Smokes: 2\n",
      "ShortnessBreath: 2\n",
      "LungDisease: 2\n",
      "ChestPain: 2\n",
      "Cough: 2\n",
      "Cold: 2\n",
      "Fever: 2\n"
     ]
    }
   ],
   "source": [
    "# Your code\n",
    "print(\"Smokes:\", model.get_cpds('Smokes').variable_card)\n",
    "print(\"ShortnessBreath:\", model.get_cpds('ShortnessBreath').variable_card)\n",
    "print(\"LungDisease:\", model.get_cpds('LungDisease').variable_card)\n",
    "print(\"ChestPain:\", model.get_cpds('ChestPain').variable_card)\n",
    "print(\"Cough:\", model.get_cpds('Cough').variable_card)\n",
    "print(\"Cold:\", model.get_cpds('Cold').variable_card)\n",
    "print(\"Fever:\", model.get_cpds('Fever').variable_card)"
   ]
  },
  {
   "cell_type": "markdown",
   "metadata": {},
   "source": [
    "Yes, cardinality of each node is 2"
   ]
  },
  {
   "cell_type": "markdown",
   "metadata": {},
   "source": [
    "### Q7 [10] \n",
    "**Find the probability of each event hapenning using the variable elimination method.**\n",
    "- $ P(Smokes) $\n",
    "- $ P(Cold) $\n",
    "- $ P(LungDisease) $\n",
    "- $ P(ShortnessBreath) $\n",
    "- $ P(ChestPain) $\n",
    "- $ P(Fever) $\n",
    "- $ P(Cough) $\n",
    "- $ P(LungDisease|Smokes=True) $\n",
    "- $ P(LungDisease|Cough=True) $\n",
    "- $ P(ShortnessBreath|Smokes=True) $\n",
    "- $ P(ChestPain|Fever=True) $"
   ]
  },
  {
   "cell_type": "code",
   "execution_count": 227,
   "metadata": {},
   "outputs": [],
   "source": [
    "from pgmpy.inference import VariableElimination\n",
    "infer = VariableElimination(model)"
   ]
  },
  {
   "cell_type": "code",
   "execution_count": 228,
   "metadata": {},
   "outputs": [
    {
     "name": "stdout",
     "output_type": "stream",
     "text": [
      "+-----------+---------------+\n",
      "| Smokes    |   phi(Smokes) |\n",
      "+===========+===============+\n",
      "| Smokes(T) |        0.2000 |\n",
      "+-----------+---------------+\n",
      "| Smokes(F) |        0.8000 |\n",
      "+-----------+---------------+\n",
      "+---------+-------------+\n",
      "| Cold    |   phi(Cold) |\n",
      "+=========+=============+\n",
      "| Cold(T) |      0.1000 |\n",
      "+---------+-------------+\n",
      "| Cold(F) |      0.9000 |\n",
      "+---------+-------------+\n",
      "+----------------+--------------------+\n",
      "| LungDisease    |   phi(LungDisease) |\n",
      "+================+====================+\n",
      "| LungDisease(T) |             0.0210 |\n",
      "+----------------+--------------------+\n",
      "| LungDisease(F) |             0.9790 |\n",
      "+----------------+--------------------+\n",
      "+--------------------+------------------------+\n",
      "| ShortnessBreath    |   phi(ShortnessBreath) |\n",
      "+====================+========================+\n",
      "| ShortnessBreath(T) |                 0.1000 |\n",
      "+--------------------+------------------------+\n",
      "| ShortnessBreath(F) |                 0.9000 |\n",
      "+--------------------+------------------------+\n",
      "+--------------+------------------+\n",
      "| ChestPain    |   phi(ChestPain) |\n",
      "+==============+==================+\n",
      "| ChestPain(T) |           0.3000 |\n",
      "+--------------+------------------+\n",
      "| ChestPain(F) |           0.7000 |\n",
      "+--------------+------------------+\n",
      "+----------+--------------+\n",
      "| Fever    |   phi(Fever) |\n",
      "+==========+==============+\n",
      "| Fever(T) |       0.1200 |\n",
      "+----------+--------------+\n",
      "| Fever(F) |       0.8800 |\n",
      "+----------+--------------+\n",
      "+----------+--------------+\n",
      "| Cough    |   phi(Cough) |\n",
      "+==========+==============+\n",
      "| Cough(T) |       0.2521 |\n",
      "+----------+--------------+\n",
      "| Cough(F) |       0.7479 |\n",
      "+----------+--------------+\n",
      "+----------------+--------------------+\n",
      "| LungDisease    |   phi(LungDisease) |\n",
      "+================+====================+\n",
      "| LungDisease(T) |             0.1009 |\n",
      "+----------------+--------------------+\n",
      "| LungDisease(F) |             0.8991 |\n",
      "+----------------+--------------------+\n",
      "+----------------+--------------------+\n",
      "| LungDisease    |   phi(LungDisease) |\n",
      "+================+====================+\n",
      "| LungDisease(T) |             0.0291 |\n",
      "+----------------+--------------------+\n",
      "| LungDisease(F) |             0.9709 |\n",
      "+----------------+--------------------+\n",
      "+--------------------+------------------------+\n",
      "| ShortnessBreath    |   phi(ShortnessBreath) |\n",
      "+====================+========================+\n",
      "| ShortnessBreath(T) |                 0.1000 |\n",
      "+--------------------+------------------------+\n",
      "| ShortnessBreath(F) |                 0.9000 |\n",
      "+--------------------+------------------------+\n",
      "+--------------+------------------+\n",
      "| ChestPain    |   phi(ChestPain) |\n",
      "+==============+==================+\n",
      "| ChestPain(T) |           0.3000 |\n",
      "+--------------+------------------+\n",
      "| ChestPain(F) |           0.7000 |\n",
      "+--------------+------------------+\n"
     ]
    }
   ],
   "source": [
    "\n",
    "dist = infer.query(['Smokes'])\n",
    "print(dist)\n",
    "# Your code\n",
    "print(infer.query(['Cold']))\n",
    "print(infer.query(['LungDisease']))\n",
    "print(infer.query(['ShortnessBreath']))\n",
    "print(infer.query(['ChestPain']))\n",
    "print(infer.query(['Fever']))\n",
    "print(infer.query(['Cough']))\n",
    "print(infer.query(['LungDisease'], evidence={'Smokes':'T'}))\n",
    "print(infer.query(['LungDisease'], evidence={'Cough':'T'}))\n",
    "print(infer.query(['ShortnessBreath'], evidence={'Smokes':'T'}))\n",
    "print(infer.query(['ChestPain'], evidence={'Fever':'T'}))"
   ]
  },
  {
   "cell_type": "markdown",
   "metadata": {},
   "source": []
  },
  {
   "cell_type": "markdown",
   "metadata": {},
   "source": [
    "## Q8 [15] \n",
    "**Are the following  true? If not, can you make them independent by including info on the parent?**\n",
    "1. Cough is independent from Fever. (Having knowledge about Fever does not change the probability of Cough) \n",
    "2. Fever is independent from Smokes. \n",
    "3. ChestPain is independent from Smokes.\n",
    "4. ChestPain is independent from Smokes given LungDisease.\n"
   ]
  },
  {
   "cell_type": "markdown",
   "metadata": {},
   "source": [
    "##### 1. Cough is independent from Fever"
   ]
  },
  {
   "cell_type": "code",
   "execution_count": 229,
   "metadata": {},
   "outputs": [
    {
     "name": "stdout",
     "output_type": "stream",
     "text": [
      "+----------+--------------+\n",
      "| Cough    |   phi(Cough) |\n",
      "+==========+==============+\n",
      "| Cough(T) |       0.2521 |\n",
      "+----------+--------------+\n",
      "| Cough(F) |       0.7479 |\n",
      "+----------+--------------+\n",
      "+----------+--------------+\n",
      "| Cough    |   phi(Cough) |\n",
      "+==========+==============+\n",
      "| Cough(T) |       0.3271 |\n",
      "+----------+--------------+\n",
      "| Cough(F) |       0.6729 |\n",
      "+----------+--------------+\n",
      "+----------+--------------+\n",
      "| Cough    |   phi(Cough) |\n",
      "+==========+==============+\n",
      "| Cough(T) |       0.2419 |\n",
      "+----------+--------------+\n",
      "| Cough(F) |       0.7581 |\n",
      "+----------+--------------+\n"
     ]
    }
   ],
   "source": [
    "dist = infer.query(['Cough'])\n",
    "print(dist)\n",
    "\n",
    "dist = infer.query(['Cough'], evidence={'Fever':'T'})\n",
    "print(dist)\n",
    "\n",
    "dist = infer.query(['Cough'], evidence={'Fever':'F'})\n",
    "print(dist)"
   ]
  },
  {
   "cell_type": "markdown",
   "metadata": {},
   "source": [
    "- Fever does affect Cough -> Not independent\n",
    "- However, given the parent of both Fever and Cough (Cold), they should be independent."
   ]
  },
  {
   "cell_type": "code",
   "execution_count": 230,
   "metadata": {},
   "outputs": [
    {
     "name": "stdout",
     "output_type": "stream",
     "text": [
      "+----------+--------------+\n",
      "| Cough    |   phi(Cough) |\n",
      "+==========+==============+\n",
      "| Cough(T) |       0.2021 |\n",
      "+----------+--------------+\n",
      "| Cough(F) |       0.7979 |\n",
      "+----------+--------------+\n",
      "+----------+--------------+\n",
      "| Cough    |   phi(Cough) |\n",
      "+==========+==============+\n",
      "| Cough(T) |       0.2021 |\n",
      "+----------+--------------+\n",
      "| Cough(F) |       0.7979 |\n",
      "+----------+--------------+\n",
      "+----------+--------------+\n",
      "| Cough    |   phi(Cough) |\n",
      "+==========+==============+\n",
      "| Cough(T) |       0.7021 |\n",
      "+----------+--------------+\n",
      "| Cough(F) |       0.2979 |\n",
      "+----------+--------------+\n",
      "+----------+--------------+\n",
      "| Cough    |   phi(Cough) |\n",
      "+==========+==============+\n",
      "| Cough(T) |       0.7021 |\n",
      "+----------+--------------+\n",
      "| Cough(F) |       0.2979 |\n",
      "+----------+--------------+\n"
     ]
    }
   ],
   "source": [
    "dist = infer.query(['Cough'], evidence={'Cold':'F', 'Fever':'T'})\n",
    "print(dist)\n",
    "\n",
    "dist = infer.query(['Cough'], evidence={'Cold':'F', 'Fever':'F'})\n",
    "print(dist)\n",
    "\n",
    "dist = infer.query(['Cough'], evidence={'Cold':'T', 'Fever':'T'})\n",
    "print(dist)\n",
    "\n",
    "dist = infer.query(['Cough'], evidence={'Cold':'T', 'Fever':'F'})\n",
    "print(dist)"
   ]
  },
  {
   "cell_type": "markdown",
   "metadata": {},
   "source": [
    "##### 2. Fever is independent from Smokes. "
   ]
  },
  {
   "cell_type": "code",
   "execution_count": 231,
   "metadata": {},
   "outputs": [
    {
     "name": "stdout",
     "output_type": "stream",
     "text": [
      "+----------+--------------+\n",
      "| Fever    |   phi(Fever) |\n",
      "+==========+==============+\n",
      "| Fever(T) |       0.1200 |\n",
      "+----------+--------------+\n",
      "| Fever(F) |       0.8800 |\n",
      "+----------+--------------+\n",
      "+----------+--------------+\n",
      "| Fever    |   phi(Fever) |\n",
      "+==========+==============+\n",
      "| Fever(T) |       0.1200 |\n",
      "+----------+--------------+\n",
      "| Fever(F) |       0.8800 |\n",
      "+----------+--------------+\n",
      "+----------+--------------+\n",
      "| Fever    |   phi(Fever) |\n",
      "+==========+==============+\n",
      "| Fever(T) |       0.1200 |\n",
      "+----------+--------------+\n",
      "| Fever(F) |       0.8800 |\n",
      "+----------+--------------+\n"
     ]
    }
   ],
   "source": [
    "# Your code\n",
    "dist = infer.query(['Fever'])\n",
    "print(dist)\n",
    "\n",
    "dist = infer.query(['Fever'], evidence={'Smokes':'T'})\n",
    "print(dist)\n",
    "\n",
    "dist = infer.query(['Fever'], evidence={'Smokes':'F'})\n",
    "print(dist)\n"
   ]
  },
  {
   "cell_type": "markdown",
   "metadata": {},
   "source": [
    "As we can see, the fever is actually independent from Smokes"
   ]
  },
  {
   "cell_type": "markdown",
   "metadata": {},
   "source": [
    "##### 3. ChestPain is independent from Smokes."
   ]
  },
  {
   "cell_type": "code",
   "execution_count": 234,
   "metadata": {},
   "outputs": [
    {
     "name": "stdout",
     "output_type": "stream",
     "text": [
      "+--------------+------------------+\n",
      "| ChestPain    |   phi(ChestPain) |\n",
      "+==============+==================+\n",
      "| ChestPain(T) |           0.3000 |\n",
      "+--------------+------------------+\n",
      "| ChestPain(F) |           0.7000 |\n",
      "+--------------+------------------+\n",
      "+--------------+------------------+\n",
      "| ChestPain    |   phi(ChestPain) |\n",
      "+==============+==================+\n",
      "| ChestPain(T) |           0.3000 |\n",
      "+--------------+------------------+\n",
      "| ChestPain(F) |           0.7000 |\n",
      "+--------------+------------------+\n",
      "+--------------+------------------+\n",
      "| ChestPain    |   phi(ChestPain) |\n",
      "+==============+==================+\n",
      "| ChestPain(T) |           0.3000 |\n",
      "+--------------+------------------+\n",
      "| ChestPain(F) |           0.7000 |\n",
      "+--------------+------------------+\n"
     ]
    }
   ],
   "source": [
    "# Your code\n",
    "dist = infer.query(['ChestPain'])\n",
    "print(dist)\n",
    "\n",
    "dist = infer.query(['ChestPain'], evidence={'Smokes':'T'})\n",
    "print(dist)\n",
    "\n",
    "dist = infer.query(['ChestPain'], evidence={'Smokes':'F'})\n",
    "print(dist)"
   ]
  },
  {
   "cell_type": "markdown",
   "metadata": {},
   "source": [
    "As we can see, the Chest Pain is independent from Smokes, since ChestPain is not a direct consequnce of Smokes."
   ]
  },
  {
   "cell_type": "code",
   "execution_count": 245,
   "metadata": {},
   "outputs": [
    {
     "name": "stdout",
     "output_type": "stream",
     "text": [
      "+--------------+------------------+\n",
      "| ChestPain    |   phi(ChestPain) |\n",
      "+==============+==================+\n",
      "| ChestPain(T) |           0.3000 |\n",
      "+--------------+------------------+\n",
      "| ChestPain(F) |           0.7000 |\n",
      "+--------------+------------------+\n",
      "+--------------+------------------+\n",
      "| ChestPain    |   phi(ChestPain) |\n",
      "+==============+==================+\n",
      "| ChestPain(T) |           0.3000 |\n",
      "+--------------+------------------+\n",
      "| ChestPain(F) |           0.7000 |\n",
      "+--------------+------------------+\n",
      "+--------------+------------------+\n",
      "| ChestPain    |   phi(ChestPain) |\n",
      "+==============+==================+\n",
      "| ChestPain(T) |           0.3000 |\n",
      "+--------------+------------------+\n",
      "| ChestPain(F) |           0.7000 |\n",
      "+--------------+------------------+\n"
     ]
    }
   ],
   "source": [
    "# ChestPain is independent from Smokes given LungDisease.\n",
    "# Your code\n",
    "dist = infer.query(['ChestPain'])\n",
    "print(dist)\n",
    "\n",
    "dist = infer.query(['ChestPain'], evidence={'Smokes':'T', 'LungDisease':'T'})\n",
    "print(dist)\n",
    "\n",
    "dist = infer.query(['ChestPain'], evidence={'Smokes':'F', 'LungDisease':'T'})\n",
    "print(dist)"
   ]
  },
  {
   "cell_type": "markdown",
   "metadata": {},
   "source": [
    "As we can see, the Chest Pain is independent from Smokes given there is a LungDisease."
   ]
  },
  {
   "cell_type": "markdown",
   "metadata": {},
   "source": [
    "## Q9 [20]\n",
    "1. Does having the knowledge that the person is coughing increase the probability of lung disease?\n",
    "2. Does having the knowledge that the person is coughing increase the probability that the person has Cold?\n",
    "3. Does having the knowledge that the person is coughing increase the probability that there is Fever?\n",
    "4. Does having the knowledge that the person is coughing increase the probability that there is Fever, given the person has Cold?\n",
    "5. Does having the knowledge that the person has Fever increase the probability that there is Lung Disease?\n"
   ]
  },
  {
   "cell_type": "markdown",
   "metadata": {},
   "source": [
    "##### 1. Does having the knowledge that the person is coughing increase the probability of lung disease? [5]"
   ]
  },
  {
   "cell_type": "code",
   "execution_count": 237,
   "metadata": {},
   "outputs": [
    {
     "name": "stdout",
     "output_type": "stream",
     "text": [
      "+----------------+--------------------+\n",
      "| LungDisease    |   phi(LungDisease) |\n",
      "+================+====================+\n",
      "| LungDisease(T) |             0.0210 |\n",
      "+----------------+--------------------+\n",
      "| LungDisease(F) |             0.9790 |\n",
      "+----------------+--------------------+\n",
      "+----------------+--------------------+\n",
      "| LungDisease    |   phi(LungDisease) |\n",
      "+================+====================+\n",
      "| LungDisease(T) |             0.0291 |\n",
      "+----------------+--------------------+\n",
      "| LungDisease(F) |             0.9709 |\n",
      "+----------------+--------------------+\n"
     ]
    }
   ],
   "source": [
    "dist = infer.query(['LungDisease'])\n",
    "print(dist)\n",
    "dist = infer.query(['LungDisease'], evidence={'Cough': 'T'})\n",
    "print(dist)"
   ]
  },
  {
   "cell_type": "markdown",
   "metadata": {},
   "source": [
    "Having the knowledge that the person is coughing increases the probability of lung disease."
   ]
  },
  {
   "cell_type": "markdown",
   "metadata": {},
   "source": [
    "##### 2. Does having the knowledge that the person is coughing increase the probability that the person has Cold? [5]"
   ]
  },
  {
   "cell_type": "code",
   "execution_count": 238,
   "metadata": {},
   "outputs": [
    {
     "name": "stdout",
     "output_type": "stream",
     "text": [
      "+---------+-------------+\n",
      "| Cold    |   phi(Cold) |\n",
      "+=========+=============+\n",
      "| Cold(T) |      0.1000 |\n",
      "+---------+-------------+\n",
      "| Cold(F) |      0.9000 |\n",
      "+---------+-------------+\n",
      "+---------+-------------+\n",
      "| Cold    |   phi(Cold) |\n",
      "+=========+=============+\n",
      "| Cold(T) |      0.2785 |\n",
      "+---------+-------------+\n",
      "| Cold(F) |      0.7215 |\n",
      "+---------+-------------+\n"
     ]
    }
   ],
   "source": [
    "# Your code\n",
    "dist = infer.query(['Cold'])\n",
    "print(dist)\n",
    "dist = infer.query(['Cold'], evidence={'Cough': 'T'})\n",
    "print(dist)"
   ]
  },
  {
   "cell_type": "markdown",
   "metadata": {},
   "source": [
    "Yes, knowing the fact that the person is coughing increases the probability of Cold"
   ]
  },
  {
   "cell_type": "markdown",
   "metadata": {},
   "source": [
    "##### 3. Does having the knowledge that the person is coughing increase the probability that there is Fever? [5]"
   ]
  },
  {
   "cell_type": "code",
   "execution_count": 239,
   "metadata": {
    "scrolled": true
   },
   "outputs": [
    {
     "name": "stdout",
     "output_type": "stream",
     "text": [
      "+----------+--------------+\n",
      "| Fever    |   phi(Fever) |\n",
      "+==========+==============+\n",
      "| Fever(T) |       0.1200 |\n",
      "+----------+--------------+\n",
      "| Fever(F) |       0.8800 |\n",
      "+----------+--------------+\n",
      "+----------+--------------+\n",
      "| Fever    |   phi(Fever) |\n",
      "+==========+==============+\n",
      "| Fever(T) |       0.1557 |\n",
      "+----------+--------------+\n",
      "| Fever(F) |       0.8443 |\n",
      "+----------+--------------+\n"
     ]
    }
   ],
   "source": [
    "# Your code\n",
    "dist = infer.query(['Fever'])\n",
    "print(dist)\n",
    "dist = infer.query(['Fever'], evidence={'Cough': 'T'})\n",
    "print(dist)"
   ]
  },
  {
   "cell_type": "markdown",
   "metadata": {},
   "source": [
    "Yes, knowing the fact that a person is coughing increases the chances that they have Fever"
   ]
  },
  {
   "cell_type": "markdown",
   "metadata": {},
   "source": [
    "##### 4. Does having the knowledge that the person is coughing increase the probability that there is Fever, given the person has Cold?"
   ]
  },
  {
   "cell_type": "code",
   "execution_count": 240,
   "metadata": {},
   "outputs": [
    {
     "name": "stdout",
     "output_type": "stream",
     "text": [
      "+----------+--------------+\n",
      "| Fever    |   phi(Fever) |\n",
      "+==========+==============+\n",
      "| Fever(T) |       0.1200 |\n",
      "+----------+--------------+\n",
      "| Fever(F) |       0.8800 |\n",
      "+----------+--------------+\n",
      "+----------+--------------+\n",
      "| Fever    |   phi(Fever) |\n",
      "+==========+==============+\n",
      "| Fever(T) |       0.3000 |\n",
      "+----------+--------------+\n",
      "| Fever(F) |       0.7000 |\n",
      "+----------+--------------+\n"
     ]
    }
   ],
   "source": [
    "# Your code\n",
    "dist = infer.query(['Fever'])\n",
    "print(dist)\n",
    "dist = infer.query(['Fever'], evidence={'Cough':'T', 'Cold':'T'})\n",
    "print(dist)"
   ]
  },
  {
   "cell_type": "markdown",
   "metadata": {},
   "source": [
    "Yes, knowing the fact that a person is coughing and having a cold increases the chances that they have Fever"
   ]
  },
  {
   "cell_type": "markdown",
   "metadata": {},
   "source": [
    "##### 5. Does having the knowledge that the person has Fever increase the probability that there is Lung Disease?"
   ]
  },
  {
   "cell_type": "code",
   "execution_count": 241,
   "metadata": {},
   "outputs": [
    {
     "name": "stdout",
     "output_type": "stream",
     "text": [
      "+----------+--------------+\n",
      "| Fever    |   phi(Fever) |\n",
      "+==========+==============+\n",
      "| Fever(T) |       0.1200 |\n",
      "+----------+--------------+\n",
      "| Fever(F) |       0.8800 |\n",
      "+----------+--------------+\n",
      "+----------+--------------+\n",
      "| Fever    |   phi(Fever) |\n",
      "+==========+==============+\n",
      "| Fever(T) |       0.1200 |\n",
      "+----------+--------------+\n",
      "| Fever(F) |       0.8800 |\n",
      "+----------+--------------+\n"
     ]
    }
   ],
   "source": [
    "# Your code\n",
    "dist = infer.query(['Fever'])\n",
    "print(dist)\n",
    "dist = infer.query(['Fever'], evidence={'LungDisease': 'T'})\n",
    "print(dist)"
   ]
  },
  {
   "cell_type": "markdown",
   "metadata": {},
   "source": [
    "No, knowing the fact that a person is having a lung disease and does not increases the chances that they have Fever"
   ]
  },
  {
   "cell_type": "markdown",
   "metadata": {},
   "source": [
    "## Q10 [5]\n",
    "1. What's the most probable state of Cough? \n",
    "2. What's the most probable state of Cough given Cold is True? \n",
    "3. What's the most probable state of Cough given Cold is True and Lung Disease is True?"
   ]
  },
  {
   "cell_type": "markdown",
   "metadata": {},
   "source": [
    "##### 1. What's the most probable state of Cough? "
   ]
  },
  {
   "cell_type": "code",
   "execution_count": 250,
   "metadata": {},
   "outputs": [
    {
     "data": {
      "application/vnd.jupyter.widget-view+json": {
       "model_id": "b65afeb4eced40e3b6cbed95e6c6cdc2",
       "version_major": 2,
       "version_minor": 0
      },
      "text/plain": [
       "  0%|          | 0/3 [00:00<?, ?it/s]"
      ]
     },
     "metadata": {},
     "output_type": "display_data"
    },
    {
     "data": {
      "application/vnd.jupyter.widget-view+json": {
       "model_id": "11c653e5bad14691b06b5da4253b015a",
       "version_major": 2,
       "version_minor": 0
      },
      "text/plain": [
       "  0%|          | 0/3 [00:00<?, ?it/s]"
      ]
     },
     "metadata": {},
     "output_type": "display_data"
    },
    {
     "data": {
      "text/plain": [
       "{'Cough': 'F'}"
      ]
     },
     "execution_count": 250,
     "metadata": {},
     "output_type": "execute_result"
    }
   ],
   "source": [
    "infer.map_query(['Cough'])"
   ]
  },
  {
   "cell_type": "markdown",
   "metadata": {},
   "source": [
    "The most probable state of Cough is False."
   ]
  },
  {
   "cell_type": "markdown",
   "metadata": {},
   "source": [
    "##### 2. What's the most probable state of Cough given Cold is True? "
   ]
  },
  {
   "cell_type": "code",
   "execution_count": 251,
   "metadata": {},
   "outputs": [
    {
     "data": {
      "application/vnd.jupyter.widget-view+json": {
       "model_id": "92e15b3811a442aba94487c5723ee312",
       "version_major": 2,
       "version_minor": 0
      },
      "text/plain": [
       "  0%|          | 0/2 [00:00<?, ?it/s]"
      ]
     },
     "metadata": {},
     "output_type": "display_data"
    },
    {
     "data": {
      "application/vnd.jupyter.widget-view+json": {
       "model_id": "2bc72a4a9b1a4b64afbfa98da93feccc",
       "version_major": 2,
       "version_minor": 0
      },
      "text/plain": [
       "  0%|          | 0/2 [00:00<?, ?it/s]"
      ]
     },
     "metadata": {},
     "output_type": "display_data"
    },
    {
     "data": {
      "text/plain": [
       "{'Cough': 'T'}"
      ]
     },
     "execution_count": 251,
     "metadata": {},
     "output_type": "execute_result"
    }
   ],
   "source": [
    "# Your code\n",
    "infer.map_query(['Cough'], evidence={'Cold': 'T'})"
   ]
  },
  {
   "cell_type": "markdown",
   "metadata": {},
   "source": [
    "The most probable state of Cough (given Cold is True) is True"
   ]
  },
  {
   "cell_type": "markdown",
   "metadata": {},
   "source": [
    "##### 3. What's the most probable state of Cough given Cold is True and Lung Disease is True?"
   ]
  },
  {
   "cell_type": "code",
   "execution_count": 254,
   "metadata": {},
   "outputs": [
    {
     "data": {
      "application/vnd.jupyter.widget-view+json": {
       "model_id": "8138ced865dc44d1841f2be03a06ed02",
       "version_major": 2,
       "version_minor": 0
      },
      "text/plain": [
       "0it [00:00, ?it/s]"
      ]
     },
     "metadata": {},
     "output_type": "display_data"
    },
    {
     "data": {
      "application/vnd.jupyter.widget-view+json": {
       "model_id": "74ba8ba5285d43bfa9b5a4fcf3a2eca1",
       "version_major": 2,
       "version_minor": 0
      },
      "text/plain": [
       "0it [00:00, ?it/s]"
      ]
     },
     "metadata": {},
     "output_type": "display_data"
    },
    {
     "data": {
      "text/plain": [
       "{'Cough': 'T'}"
      ]
     },
     "execution_count": 254,
     "metadata": {},
     "output_type": "execute_result"
    }
   ],
   "source": [
    "# Your code\n",
    "infer.map_query(['Cough'], evidence={'LungDisease':'T', 'Cold':'T'})"
   ]
  },
  {
   "cell_type": "markdown",
   "metadata": {},
   "source": [
    "The most probable state of Cough (given Cold is True and LungDisease is True) is True"
   ]
  },
  {
   "cell_type": "markdown",
   "metadata": {},
   "source": [
    "# Well done!"
   ]
  }
 ],
 "metadata": {
  "kernelspec": {
   "display_name": "Python 3 (ipykernel)",
   "language": "python",
   "name": "python3"
  },
  "language_info": {
   "codemirror_mode": {
    "name": "ipython",
    "version": 3
   },
   "file_extension": ".py",
   "mimetype": "text/x-python",
   "name": "python",
   "nbconvert_exporter": "python",
   "pygments_lexer": "ipython3",
   "version": "3.9.13"
  },
  "toc": {
   "base_numbering": 1,
   "nav_menu": {},
   "number_sections": false,
   "sideBar": false,
   "skip_h1_title": false,
   "title_cell": "Table of Contents",
   "title_sidebar": "Contents",
   "toc_cell": false,
   "toc_position": {},
   "toc_section_display": false,
   "toc_window_display": false
  }
 },
 "nbformat": 4,
 "nbformat_minor": 4
}
